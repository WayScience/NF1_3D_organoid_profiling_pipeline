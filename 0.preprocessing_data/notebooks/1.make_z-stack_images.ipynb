{
    "cells": [
        {
            "cell_type": "markdown",
            "metadata": {},
            "source": [
                "# Create z-stack images from the individual z-slice images for each FOV per well"
            ]
        },
        {
            "cell_type": "markdown",
            "metadata": {},
            "source": [
                "## Import libraries"
            ]
        },
        {
            "cell_type": "code",
            "execution_count": 1,
            "metadata": {},
            "outputs": [],
            "source": [
                "import pathlib\n",
                "\n",
                "import numpy as np\n",
                "import tifffile as tiff\n",
                "import tqdm"
            ]
        },
        {
            "cell_type": "markdown",
            "metadata": {},
            "source": [
                "## Set input and output directories"
            ]
        },
        {
            "cell_type": "code",
            "execution_count": 2,
            "metadata": {},
            "outputs": [],
            "source": [
                "input_dir = pathlib.Path(\"../../data/NF0014/raw_images\").resolve(strict=True)\n",
                "\n",
                "output_z_stack_dir = pathlib.Path(\"../../data/NF0014/zstack_images\").resolve()\n",
                "output_z_stack_dir.mkdir(exist_ok=True, parents=True)"
            ]
        },
        {
            "cell_type": "markdown",
            "metadata": {},
            "source": [
                "## Create list of the well-site folders"
            ]
        },
        {
            "cell_type": "code",
            "execution_count": 3,
            "metadata": {},
            "outputs": [
                {
                    "name": "stdout",
                    "output_type": "stream",
                    "text": [
                        "There are 105 directories in the input directory.\n"
                    ]
                }
            ],
            "source": [
                "# get a list of all dirs in the input dir\n",
                "input_dirs = [x for x in input_dir.iterdir() if x.is_dir()]\n",
                "input_dirs.sort()\n",
                "print(f\"There are {len(input_dirs)} directories in the input directory.\")"
            ]
        },
        {
            "cell_type": "markdown",
            "metadata": {},
            "source": [
                "## For the NF0014 dataset, remove the files for one of the z-slices due to missing channel (640)"
            ]
        },
        {
            "cell_type": "code",
            "execution_count": 4,
            "metadata": {},
            "outputs": [],
            "source": [
                "# Remove files containing 'ZS000' (first z-slice) in the F11-3 directory because it is missing 640 channel\n",
                "for file in pathlib.Path(f\"{input_dir}/F11-3\").glob(\"*ZS000*\"):\n",
                "    file.unlink()\n",
                "    print(f\"Removed: {file}\")"
            ]
        },
        {
            "cell_type": "markdown",
            "metadata": {},
            "source": [
                "## Set the dictionary for filenames and filepaths"
            ]
        },
        {
            "cell_type": "code",
            "execution_count": 5,
            "metadata": {},
            "outputs": [
                {
                    "data": {
                        "text/plain": [
                            "{'405': {'filename': [], 'filepath': []},\n",
                            " '488': {'filename': [], 'filepath': []},\n",
                            " '555': {'filename': [], 'filepath': []},\n",
                            " '640': {'filename': [], 'filepath': []},\n",
                            " 'TRANS': {'filename': [], 'filepath': []}}"
                        ]
                    },
                    "execution_count": 5,
                    "metadata": {},
                    "output_type": "execute_result"
                }
            ],
            "source": [
                "image_extensions = {\".tif\", \".tiff\"}\n",
                "channel_names = [\"405\", \"488\", \"555\", \"640\", \"TRANS\"]\n",
                "# make a dictionary that contains a list for each channel name, storing both filepath and filename\n",
                "channel_images = {\n",
                "    channel_name: {\"filename\": [], \"filepath\": []} for channel_name in channel_names\n",
                "}\n",
                "channel_images"
            ]
        },
        {
            "cell_type": "markdown",
            "metadata": {},
            "source": [
                "## Loop thorugh and create z-stack images for each FOV of each well in their respective directories."
            ]
        },
        {
            "cell_type": "code",
            "execution_count": 6,
            "metadata": {},
            "outputs": [
                {
                    "name": "stderr",
                    "output_type": "stream",
                    "text": [
                        "  0%|          | 0/105 [00:00<?, ?it/s]"
                    ]
                },
                {
                    "name": "stdout",
                    "output_type": "stream",
                    "text": [
                        "Processing well_dir: C10-1\n",
                        "Stacking channel 405\n",
                        "Stacking channel 488\n",
                        "Stacking channel 555\n",
                        "Stacking channel 640\n",
                        "Stacking channel TRANS\n"
                    ]
                },
                {
                    "name": "stderr",
                    "output_type": "stream",
                    "text": [
                        "  1%|          | 1/105 [00:19<33:32, 19.35s/it]"
                    ]
                },
                {
                    "name": "stdout",
                    "output_type": "stream",
                    "text": [
                        "Processing well_dir: C10-2\n",
                        "Stacking channel 405\n",
                        "Stacking channel 488\n",
                        "Stacking channel 555\n",
                        "Stacking channel 640\n",
                        "Stacking channel TRANS\n"
                    ]
                },
                {
                    "name": "stderr",
                    "output_type": "stream",
                    "text": [
                        "  2%|\u258f         | 2/105 [00:26<20:42, 12.07s/it]"
                    ]
                },
                {
                    "name": "stdout",
                    "output_type": "stream",
                    "text": [
                        "Processing well_dir: C11-1\n",
                        "Stacking channel 405\n",
                        "Stacking channel 488\n",
                        "Stacking channel 555\n",
                        "Stacking channel 640\n",
                        "Stacking channel TRANS\n"
                    ]
                },
                {
                    "name": "stderr",
                    "output_type": "stream",
                    "text": [
                        "  3%|\u258e         | 3/105 [00:37<20:04, 11.81s/it]"
                    ]
                },
                {
                    "name": "stdout",
                    "output_type": "stream",
                    "text": [
                        "Processing well_dir: C11-2\n",
                        "Stacking channel 405\n",
                        "Stacking channel 488\n",
                        "Stacking channel 555\n",
                        "Stacking channel 640\n",
                        "Stacking channel TRANS\n"
                    ]
                },
                {
                    "name": "stderr",
                    "output_type": "stream",
                    "text": [
                        "  4%|\u258d         | 4/105 [00:47<18:18, 10.87s/it]"
                    ]
                },
                {
                    "name": "stdout",
                    "output_type": "stream",
                    "text": [
                        "Processing well_dir: C2-1\n",
                        "Stacking channel 405\n",
                        "Stacking channel 488\n",
                        "Stacking channel 555\n",
                        "Stacking channel 640\n",
                        "Stacking channel TRANS\n"
                    ]
                },
                {
                    "name": "stderr",
                    "output_type": "stream",
                    "text": [
                        "  5%|\u258d         | 5/105 [00:49<12:53,  7.73s/it]"
                    ]
                },
                {
                    "name": "stdout",
                    "output_type": "stream",
                    "text": [
                        "Processing well_dir: C2-2\n",
                        "Stacking channel 405\n",
                        "Stacking channel 488\n",
                        "Stacking channel 555\n",
                        "Stacking channel 640\n",
                        "Stacking channel TRANS\n"
                    ]
                },
                {
                    "name": "stderr",
                    "output_type": "stream",
                    "text": [
                        "  6%|\u258c         | 6/105 [00:51<09:34,  5.80s/it]"
                    ]
                },
                {
                    "name": "stdout",
                    "output_type": "stream",
                    "text": [
                        "Processing well_dir: C3-1\n",
                        "Stacking channel 405\n",
                        "Stacking channel 488\n",
                        "Stacking channel 555\n",
                        "Stacking channel 640\n",
                        "Stacking channel TRANS\n"
                    ]
                },
                {
                    "name": "stderr",
                    "output_type": "stream",
                    "text": [
                        "  7%|\u258b         | 7/105 [01:02<12:28,  7.64s/it]"
                    ]
                },
                {
                    "name": "stdout",
                    "output_type": "stream",
                    "text": [
                        "Processing well_dir: C3-2\n",
                        "Stacking channel 405\n",
                        "Stacking channel 488\n",
                        "Stacking channel 555\n",
                        "Stacking channel 640\n",
                        "Stacking channel TRANS\n"
                    ]
                },
                {
                    "name": "stderr",
                    "output_type": "stream",
                    "text": [
                        "  8%|\u258a         | 8/105 [01:08<11:09,  6.90s/it]"
                    ]
                },
                {
                    "name": "stdout",
                    "output_type": "stream",
                    "text": [
                        "Processing well_dir: C4-1\n",
                        "Stacking channel 405\n",
                        "Stacking channel 488\n",
                        "Stacking channel 555\n",
                        "Stacking channel 640\n",
                        "Stacking channel TRANS\n"
                    ]
                },
                {
                    "name": "stderr",
                    "output_type": "stream",
                    "text": [
                        "  9%|\u258a         | 9/105 [01:24<15:51,  9.91s/it]"
                    ]
                },
                {
                    "name": "stdout",
                    "output_type": "stream",
                    "text": [
                        "Processing well_dir: C4-2\n",
                        "Stacking channel 405\n",
                        "Stacking channel 488\n",
                        "Stacking channel 555\n",
                        "Stacking channel 640\n",
                        "Stacking channel TRANS\n"
                    ]
                },
                {
                    "name": "stderr",
                    "output_type": "stream",
                    "text": [
                        " 10%|\u2589         | 10/105 [01:36<16:41, 10.54s/it]"
                    ]
                },
                {
                    "name": "stdout",
                    "output_type": "stream",
                    "text": [
                        "Processing well_dir: C5-1\n",
                        "Stacking channel 405\n",
                        "Stacking channel 488\n",
                        "Stacking channel 555\n",
                        "Stacking channel 640\n",
                        "Stacking channel TRANS\n"
                    ]
                },
                {
                    "name": "stderr",
                    "output_type": "stream",
                    "text": [
                        " 10%|\u2588         | 11/105 [01:57<21:12, 13.53s/it]"
                    ]
                },
                {
                    "name": "stdout",
                    "output_type": "stream",
                    "text": [
                        "Processing well_dir: C5-2\n",
                        "Stacking channel 405\n",
                        "Stacking channel 488\n",
                        "Stacking channel 555\n",
                        "Stacking channel 640\n",
                        "Stacking channel TRANS\n"
                    ]
                },
                {
                    "name": "stderr",
                    "output_type": "stream",
                    "text": [
                        " 11%|\u2588\u258f        | 12/105 [02:07<19:42, 12.72s/it]"
                    ]
                },
                {
                    "name": "stdout",
                    "output_type": "stream",
                    "text": [
                        "Processing well_dir: C6-1\n",
                        "Stacking channel 405\n",
                        "Stacking channel 488\n",
                        "Stacking channel 555\n",
                        "Stacking channel 640\n",
                        "Stacking channel TRANS\n"
                    ]
                },
                {
                    "name": "stderr",
                    "output_type": "stream",
                    "text": [
                        " 12%|\u2588\u258f        | 13/105 [02:20<19:33, 12.76s/it]"
                    ]
                },
                {
                    "name": "stdout",
                    "output_type": "stream",
                    "text": [
                        "Processing well_dir: C6-2\n",
                        "Stacking channel 405\n",
                        "Stacking channel 488\n",
                        "Stacking channel 555\n",
                        "Stacking channel 640\n",
                        "Stacking channel TRANS\n"
                    ]
                },
                {
                    "name": "stderr",
                    "output_type": "stream",
                    "text": [
                        " 13%|\u2588\u258e        | 14/105 [02:40<22:37, 14.92s/it]"
                    ]
                },
                {
                    "name": "stdout",
                    "output_type": "stream",
                    "text": [
                        "Processing well_dir: C7-1\n",
                        "Stacking channel 405\n",
                        "Stacking channel 488\n",
                        "Stacking channel 555\n",
                        "Stacking channel 640\n",
                        "Stacking channel TRANS\n"
                    ]
                },
                {
                    "name": "stderr",
                    "output_type": "stream",
                    "text": [
                        " 14%|\u2588\u258d        | 15/105 [02:50<19:57, 13.30s/it]"
                    ]
                },
                {
                    "name": "stdout",
                    "output_type": "stream",
                    "text": [
                        "Processing well_dir: C7-2\n",
                        "Stacking channel 405\n",
                        "Stacking channel 488\n",
                        "Stacking channel 555\n",
                        "Stacking channel 640\n",
                        "Stacking channel TRANS\n"
                    ]
                },
                {
                    "name": "stderr",
                    "output_type": "stream",
                    "text": [
                        " 15%|\u2588\u258c        | 16/105 [02:59<17:53, 12.06s/it]"
                    ]
                },
                {
                    "name": "stdout",
                    "output_type": "stream",
                    "text": [
                        "Processing well_dir: C8-1\n",
                        "Stacking channel 405\n",
                        "Stacking channel 488\n",
                        "Stacking channel 555\n",
                        "Stacking channel 640\n",
                        "Stacking channel TRANS\n"
                    ]
                },
                {
                    "name": "stderr",
                    "output_type": "stream",
                    "text": [
                        " 16%|\u2588\u258c        | 17/105 [03:09<16:44, 11.42s/it]"
                    ]
                },
                {
                    "name": "stdout",
                    "output_type": "stream",
                    "text": [
                        "Processing well_dir: C8-2\n",
                        "Stacking channel 405\n",
                        "Stacking channel 488\n",
                        "Stacking channel 555\n",
                        "Stacking channel 640\n",
                        "Stacking channel TRANS\n"
                    ]
                },
                {
                    "name": "stderr",
                    "output_type": "stream",
                    "text": [
                        " 17%|\u2588\u258b        | 18/105 [03:21<16:46, 11.57s/it]"
                    ]
                },
                {
                    "name": "stdout",
                    "output_type": "stream",
                    "text": [
                        "Processing well_dir: C9-1\n",
                        "Stacking channel 405\n",
                        "Stacking channel 488\n",
                        "Stacking channel 555\n",
                        "Stacking channel 640\n",
                        "Stacking channel TRANS\n"
                    ]
                },
                {
                    "name": "stderr",
                    "output_type": "stream",
                    "text": [
                        " 18%|\u2588\u258a        | 19/105 [03:33<16:59, 11.85s/it]"
                    ]
                },
                {
                    "name": "stdout",
                    "output_type": "stream",
                    "text": [
                        "Processing well_dir: C9-2\n",
                        "Stacking channel 405\n",
                        "Stacking channel 488\n",
                        "Stacking channel 555\n",
                        "Stacking channel 640\n",
                        "Stacking channel TRANS\n"
                    ]
                },
                {
                    "name": "stderr",
                    "output_type": "stream",
                    "text": [
                        " 19%|\u2588\u2589        | 20/105 [03:44<16:23, 11.57s/it]"
                    ]
                },
                {
                    "name": "stdout",
                    "output_type": "stream",
                    "text": [
                        "Processing well_dir: D10-1\n",
                        "Stacking channel 405\n",
                        "Stacking channel 488\n",
                        "Stacking channel 555\n",
                        "Stacking channel 640\n",
                        "Stacking channel TRANS\n"
                    ]
                },
                {
                    "name": "stderr",
                    "output_type": "stream",
                    "text": [
                        " 20%|\u2588\u2588        | 21/105 [03:50<13:36,  9.72s/it]"
                    ]
                },
                {
                    "name": "stdout",
                    "output_type": "stream",
                    "text": [
                        "Processing well_dir: D10-2\n",
                        "Stacking channel 405\n",
                        "Stacking channel 488\n",
                        "Stacking channel 555\n",
                        "Stacking channel 640\n",
                        "Stacking channel TRANS\n"
                    ]
                },
                {
                    "name": "stderr",
                    "output_type": "stream",
                    "text": [
                        " 21%|\u2588\u2588        | 22/105 [04:05<16:00, 11.58s/it]"
                    ]
                },
                {
                    "name": "stdout",
                    "output_type": "stream",
                    "text": [
                        "Processing well_dir: D11-1\n",
                        "Stacking channel 405\n",
                        "Stacking channel 488\n",
                        "Stacking channel 555\n",
                        "Stacking channel 640\n",
                        "Stacking channel TRANS\n"
                    ]
                },
                {
                    "name": "stderr",
                    "output_type": "stream",
                    "text": [
                        " 22%|\u2588\u2588\u258f       | 23/105 [04:24<18:49, 13.78s/it]"
                    ]
                },
                {
                    "name": "stdout",
                    "output_type": "stream",
                    "text": [
                        "Processing well_dir: D11-2\n",
                        "Stacking channel 405\n",
                        "Stacking channel 488\n",
                        "Stacking channel 555\n",
                        "Stacking channel 640\n",
                        "Stacking channel TRANS\n"
                    ]
                },
                {
                    "name": "stderr",
                    "output_type": "stream",
                    "text": [
                        " 23%|\u2588\u2588\u258e       | 24/105 [04:49<22:51, 16.93s/it]"
                    ]
                },
                {
                    "name": "stdout",
                    "output_type": "stream",
                    "text": [
                        "Processing well_dir: D11-3\n",
                        "Stacking channel 405\n",
                        "Stacking channel 488\n",
                        "Stacking channel 555\n",
                        "Stacking channel 640\n",
                        "Stacking channel TRANS\n"
                    ]
                },
                {
                    "name": "stderr",
                    "output_type": "stream",
                    "text": [
                        " 24%|\u2588\u2588\u258d       | 25/105 [05:02<21:11, 15.89s/it]"
                    ]
                },
                {
                    "name": "stdout",
                    "output_type": "stream",
                    "text": [
                        "Processing well_dir: D2-1\n",
                        "Stacking channel 405\n",
                        "Stacking channel 488\n",
                        "Stacking channel 555\n",
                        "Stacking channel 640\n",
                        "Stacking channel TRANS\n"
                    ]
                },
                {
                    "name": "stderr",
                    "output_type": "stream",
                    "text": [
                        " 25%|\u2588\u2588\u258d       | 26/105 [05:12<18:30, 14.06s/it]"
                    ]
                },
                {
                    "name": "stdout",
                    "output_type": "stream",
                    "text": [
                        "Processing well_dir: D2-2\n",
                        "Stacking channel 405\n",
                        "Stacking channel 488\n",
                        "Stacking channel 555\n",
                        "Stacking channel 640\n",
                        "Stacking channel TRANS\n"
                    ]
                },
                {
                    "name": "stderr",
                    "output_type": "stream",
                    "text": [
                        " 26%|\u2588\u2588\u258c       | 27/105 [05:17<14:41, 11.30s/it]"
                    ]
                },
                {
                    "name": "stdout",
                    "output_type": "stream",
                    "text": [
                        "Processing well_dir: D2-3\n",
                        "Stacking channel 405\n",
                        "Stacking channel 488\n",
                        "Stacking channel 555\n",
                        "Stacking channel 640\n",
                        "Stacking channel TRANS\n"
                    ]
                },
                {
                    "name": "stderr",
                    "output_type": "stream",
                    "text": [
                        " 27%|\u2588\u2588\u258b       | 28/105 [05:22<12:11,  9.50s/it]"
                    ]
                },
                {
                    "name": "stdout",
                    "output_type": "stream",
                    "text": [
                        "Processing well_dir: D3-1\n",
                        "Stacking channel 405\n",
                        "Stacking channel 488\n",
                        "Stacking channel 555\n",
                        "Stacking channel 640\n",
                        "Stacking channel TRANS\n"
                    ]
                },
                {
                    "name": "stderr",
                    "output_type": "stream",
                    "text": [
                        " 28%|\u2588\u2588\u258a       | 29/105 [05:31<11:40,  9.22s/it]"
                    ]
                },
                {
                    "name": "stdout",
                    "output_type": "stream",
                    "text": [
                        "Processing well_dir: D3-2\n",
                        "Stacking channel 405\n",
                        "Stacking channel 488\n",
                        "Stacking channel 555\n",
                        "Stacking channel 640\n",
                        "Stacking channel TRANS\n"
                    ]
                },
                {
                    "name": "stderr",
                    "output_type": "stream",
                    "text": [
                        " 29%|\u2588\u2588\u258a       | 30/105 [05:36<10:01,  8.02s/it]"
                    ]
                },
                {
                    "name": "stdout",
                    "output_type": "stream",
                    "text": [
                        "Processing well_dir: D4-1\n",
                        "Stacking channel 405\n",
                        "Stacking channel 488\n",
                        "Stacking channel 555\n",
                        "Stacking channel 640\n",
                        "Stacking channel TRANS\n"
                    ]
                },
                {
                    "name": "stderr",
                    "output_type": "stream",
                    "text": [
                        " 30%|\u2588\u2588\u2589       | 31/105 [05:59<15:20, 12.43s/it]"
                    ]
                },
                {
                    "name": "stdout",
                    "output_type": "stream",
                    "text": [
                        "Processing well_dir: D4-2\n",
                        "Stacking channel 405\n",
                        "Stacking channel 488\n",
                        "Stacking channel 555\n",
                        "Stacking channel 640\n",
                        "Stacking channel TRANS\n"
                    ]
                },
                {
                    "name": "stderr",
                    "output_type": "stream",
                    "text": [
                        " 30%|\u2588\u2588\u2588       | 32/105 [06:04<12:42, 10.44s/it]"
                    ]
                },
                {
                    "name": "stdout",
                    "output_type": "stream",
                    "text": [
                        "Processing well_dir: D5-1\n",
                        "Stacking channel 405\n",
                        "Stacking channel 488\n",
                        "Stacking channel 555\n",
                        "Stacking channel 640\n",
                        "Stacking channel TRANS\n"
                    ]
                },
                {
                    "name": "stderr",
                    "output_type": "stream",
                    "text": [
                        " 31%|\u2588\u2588\u2588\u258f      | 33/105 [06:08<10:07,  8.43s/it]"
                    ]
                },
                {
                    "name": "stdout",
                    "output_type": "stream",
                    "text": [
                        "Processing well_dir: D5-2\n",
                        "Stacking channel 405\n",
                        "Stacking channel 488\n",
                        "Stacking channel 555\n",
                        "Stacking channel 640\n",
                        "Stacking channel TRANS\n"
                    ]
                },
                {
                    "name": "stderr",
                    "output_type": "stream",
                    "text": [
                        " 32%|\u2588\u2588\u2588\u258f      | 34/105 [06:14<09:11,  7.76s/it]"
                    ]
                },
                {
                    "name": "stdout",
                    "output_type": "stream",
                    "text": [
                        "Processing well_dir: D6-1\n",
                        "Stacking channel 405\n",
                        "Stacking channel 488\n",
                        "Stacking channel 555\n",
                        "Stacking channel 640\n",
                        "Stacking channel TRANS\n"
                    ]
                },
                {
                    "name": "stderr",
                    "output_type": "stream",
                    "text": [
                        " 33%|\u2588\u2588\u2588\u258e      | 35/105 [06:32<12:32, 10.75s/it]"
                    ]
                },
                {
                    "name": "stdout",
                    "output_type": "stream",
                    "text": [
                        "Processing well_dir: D6-2\n",
                        "Stacking channel 405\n",
                        "Stacking channel 488\n",
                        "Stacking channel 555\n",
                        "Stacking channel 640\n",
                        "Stacking channel TRANS\n"
                    ]
                },
                {
                    "name": "stderr",
                    "output_type": "stream",
                    "text": [
                        " 34%|\u2588\u2588\u2588\u258d      | 36/105 [06:43<12:34, 10.94s/it]"
                    ]
                },
                {
                    "name": "stdout",
                    "output_type": "stream",
                    "text": [
                        "Processing well_dir: D7-1\n",
                        "Stacking channel 405\n",
                        "Stacking channel 488\n",
                        "Stacking channel 555\n",
                        "Stacking channel 640\n",
                        "Stacking channel TRANS\n"
                    ]
                },
                {
                    "name": "stderr",
                    "output_type": "stream",
                    "text": [
                        " 35%|\u2588\u2588\u2588\u258c      | 37/105 [07:00<14:10, 12.50s/it]"
                    ]
                },
                {
                    "name": "stdout",
                    "output_type": "stream",
                    "text": [
                        "Processing well_dir: D7-2\n",
                        "Stacking channel 405\n",
                        "Stacking channel 488\n",
                        "Stacking channel 555\n",
                        "Stacking channel 640\n",
                        "Stacking channel TRANS\n"
                    ]
                },
                {
                    "name": "stderr",
                    "output_type": "stream",
                    "text": [
                        " 36%|\u2588\u2588\u2588\u258c      | 38/105 [07:08<12:28, 11.18s/it]"
                    ]
                },
                {
                    "name": "stdout",
                    "output_type": "stream",
                    "text": [
                        "Processing well_dir: D8-1\n",
                        "Stacking channel 405\n",
                        "Stacking channel 488\n",
                        "Stacking channel 555\n",
                        "Stacking channel 640\n",
                        "Stacking channel TRANS\n"
                    ]
                },
                {
                    "name": "stderr",
                    "output_type": "stream",
                    "text": [
                        " 37%|\u2588\u2588\u2588\u258b      | 39/105 [07:21<12:54, 11.73s/it]"
                    ]
                },
                {
                    "name": "stdout",
                    "output_type": "stream",
                    "text": [
                        "Processing well_dir: D8-2\n",
                        "Stacking channel 405\n",
                        "Stacking channel 488\n",
                        "Stacking channel 555\n",
                        "Stacking channel 640\n",
                        "Stacking channel TRANS\n"
                    ]
                },
                {
                    "name": "stderr",
                    "output_type": "stream",
                    "text": [
                        " 38%|\u2588\u2588\u2588\u258a      | 40/105 [07:33<12:51, 11.87s/it]"
                    ]
                },
                {
                    "name": "stdout",
                    "output_type": "stream",
                    "text": [
                        "Processing well_dir: D9-1\n",
                        "Stacking channel 405\n",
                        "Stacking channel 488\n",
                        "Stacking channel 555\n",
                        "Stacking channel 640\n",
                        "Stacking channel TRANS\n"
                    ]
                },
                {
                    "name": "stderr",
                    "output_type": "stream",
                    "text": [
                        " 39%|\u2588\u2588\u2588\u2589      | 41/105 [07:52<15:04, 14.13s/it]"
                    ]
                },
                {
                    "name": "stdout",
                    "output_type": "stream",
                    "text": [
                        "Processing well_dir: D9-2\n",
                        "Stacking channel 405\n",
                        "Stacking channel 488\n",
                        "Stacking channel 555\n",
                        "Stacking channel 640\n",
                        "Stacking channel TRANS\n"
                    ]
                },
                {
                    "name": "stderr",
                    "output_type": "stream",
                    "text": [
                        " 40%|\u2588\u2588\u2588\u2588      | 42/105 [08:13<16:54, 16.10s/it]"
                    ]
                },
                {
                    "name": "stdout",
                    "output_type": "stream",
                    "text": [
                        "Processing well_dir: D9-3\n",
                        "Stacking channel 405\n",
                        "Stacking channel 488\n",
                        "Stacking channel 555\n",
                        "Stacking channel 640\n",
                        "Stacking channel TRANS\n"
                    ]
                },
                {
                    "name": "stderr",
                    "output_type": "stream",
                    "text": [
                        " 41%|\u2588\u2588\u2588\u2588      | 43/105 [08:34<18:03, 17.48s/it]"
                    ]
                },
                {
                    "name": "stdout",
                    "output_type": "stream",
                    "text": [
                        "Processing well_dir: E10-1\n",
                        "Stacking channel 405\n",
                        "Stacking channel 488\n",
                        "Stacking channel 555\n",
                        "Stacking channel 640\n",
                        "Stacking channel TRANS\n"
                    ]
                },
                {
                    "name": "stderr",
                    "output_type": "stream",
                    "text": [
                        " 42%|\u2588\u2588\u2588\u2588\u258f     | 44/105 [08:37<13:31, 13.31s/it]"
                    ]
                },
                {
                    "name": "stdout",
                    "output_type": "stream",
                    "text": [
                        "Processing well_dir: E10-2\n",
                        "Stacking channel 405\n",
                        "Stacking channel 488\n",
                        "Stacking channel 555\n",
                        "Stacking channel 640\n",
                        "Stacking channel TRANS\n"
                    ]
                },
                {
                    "name": "stderr",
                    "output_type": "stream",
                    "text": [
                        " 43%|\u2588\u2588\u2588\u2588\u258e     | 45/105 [08:42<10:41, 10.70s/it]"
                    ]
                },
                {
                    "name": "stdout",
                    "output_type": "stream",
                    "text": [
                        "Processing well_dir: E11-1\n",
                        "Stacking channel 405\n",
                        "Stacking channel 488\n",
                        "Stacking channel 555\n",
                        "Stacking channel 640\n",
                        "Stacking channel TRANS\n"
                    ]
                },
                {
                    "name": "stderr",
                    "output_type": "stream",
                    "text": [
                        " 44%|\u2588\u2588\u2588\u2588\u258d     | 46/105 [08:51<10:11, 10.37s/it]"
                    ]
                },
                {
                    "name": "stdout",
                    "output_type": "stream",
                    "text": [
                        "Processing well_dir: E11-2\n",
                        "Stacking channel 405\n",
                        "Stacking channel 488\n",
                        "Stacking channel 555\n",
                        "Stacking channel 640\n",
                        "Stacking channel TRANS\n"
                    ]
                },
                {
                    "name": "stderr",
                    "output_type": "stream",
                    "text": [
                        " 45%|\u2588\u2588\u2588\u2588\u258d     | 47/105 [09:01<09:51, 10.19s/it]"
                    ]
                },
                {
                    "name": "stdout",
                    "output_type": "stream",
                    "text": [
                        "Processing well_dir: E2-1\n",
                        "Stacking channel 405\n",
                        "Stacking channel 488\n",
                        "Stacking channel 555\n",
                        "Stacking channel 640\n",
                        "Stacking channel TRANS\n"
                    ]
                },
                {
                    "name": "stderr",
                    "output_type": "stream",
                    "text": [
                        " 46%|\u2588\u2588\u2588\u2588\u258c     | 48/105 [09:10<09:25,  9.92s/it]"
                    ]
                },
                {
                    "name": "stdout",
                    "output_type": "stream",
                    "text": [
                        "Processing well_dir: E2-2\n",
                        "Stacking channel 405\n",
                        "Stacking channel 488\n",
                        "Stacking channel 555\n",
                        "Stacking channel 640\n",
                        "Stacking channel TRANS\n"
                    ]
                },
                {
                    "name": "stderr",
                    "output_type": "stream",
                    "text": [
                        " 47%|\u2588\u2588\u2588\u2588\u258b     | 49/105 [09:16<08:02,  8.62s/it]"
                    ]
                },
                {
                    "name": "stdout",
                    "output_type": "stream",
                    "text": [
                        "Processing well_dir: E3-1\n",
                        "Stacking channel 405\n",
                        "Stacking channel 488\n",
                        "Stacking channel 555\n",
                        "Stacking channel 640\n",
                        "Stacking channel TRANS\n"
                    ]
                },
                {
                    "name": "stderr",
                    "output_type": "stream",
                    "text": [
                        " 48%|\u2588\u2588\u2588\u2588\u258a     | 50/105 [09:27<08:28,  9.24s/it]"
                    ]
                },
                {
                    "name": "stdout",
                    "output_type": "stream",
                    "text": [
                        "Processing well_dir: E3-2\n",
                        "Stacking channel 405\n",
                        "Stacking channel 488\n",
                        "Stacking channel 555\n",
                        "Stacking channel 640\n",
                        "Stacking channel TRANS\n"
                    ]
                },
                {
                    "name": "stderr",
                    "output_type": "stream",
                    "text": [
                        " 49%|\u2588\u2588\u2588\u2588\u258a     | 51/105 [09:38<08:57,  9.96s/it]"
                    ]
                },
                {
                    "name": "stdout",
                    "output_type": "stream",
                    "text": [
                        "Processing well_dir: E4-1\n",
                        "Stacking channel 405\n",
                        "Stacking channel 488\n",
                        "Stacking channel 555\n",
                        "Stacking channel 640\n",
                        "Stacking channel TRANS\n"
                    ]
                },
                {
                    "name": "stderr",
                    "output_type": "stream",
                    "text": [
                        " 50%|\u2588\u2588\u2588\u2588\u2589     | 52/105 [09:58<11:18, 12.80s/it]"
                    ]
                },
                {
                    "name": "stdout",
                    "output_type": "stream",
                    "text": [
                        "Processing well_dir: E4-2\n",
                        "Stacking channel 405\n",
                        "Stacking channel 488\n",
                        "Stacking channel 555\n",
                        "Stacking channel 640\n",
                        "Stacking channel TRANS\n"
                    ]
                },
                {
                    "name": "stderr",
                    "output_type": "stream",
                    "text": [
                        " 50%|\u2588\u2588\u2588\u2588\u2588     | 53/105 [10:13<11:47, 13.60s/it]"
                    ]
                },
                {
                    "name": "stdout",
                    "output_type": "stream",
                    "text": [
                        "Processing well_dir: E5-1\n",
                        "Stacking channel 405\n",
                        "Stacking channel 488\n",
                        "Stacking channel 555\n",
                        "Stacking channel 640\n",
                        "Stacking channel TRANS\n"
                    ]
                },
                {
                    "name": "stderr",
                    "output_type": "stream",
                    "text": [
                        " 51%|\u2588\u2588\u2588\u2588\u2588\u258f    | 54/105 [10:17<08:58, 10.56s/it]"
                    ]
                },
                {
                    "name": "stdout",
                    "output_type": "stream",
                    "text": [
                        "Processing well_dir: E5-2\n",
                        "Stacking channel 405\n",
                        "Stacking channel 488\n",
                        "Stacking channel 555\n",
                        "Stacking channel 640\n",
                        "Stacking channel TRANS\n"
                    ]
                },
                {
                    "name": "stderr",
                    "output_type": "stream",
                    "text": [
                        " 52%|\u2588\u2588\u2588\u2588\u2588\u258f    | 55/105 [10:21<07:06,  8.53s/it]"
                    ]
                },
                {
                    "name": "stdout",
                    "output_type": "stream",
                    "text": [
                        "Processing well_dir: E6-1\n",
                        "Stacking channel 405\n",
                        "Stacking channel 488\n",
                        "Stacking channel 555\n",
                        "Stacking channel 640\n",
                        "Stacking channel TRANS\n"
                    ]
                },
                {
                    "name": "stderr",
                    "output_type": "stream",
                    "text": [
                        " 53%|\u2588\u2588\u2588\u2588\u2588\u258e    | 56/105 [10:41<09:59, 12.23s/it]"
                    ]
                },
                {
                    "name": "stdout",
                    "output_type": "stream",
                    "text": [
                        "Processing well_dir: E6-2\n",
                        "Stacking channel 405\n",
                        "Stacking channel 488\n",
                        "Stacking channel 555\n",
                        "Stacking channel 640\n",
                        "Stacking channel TRANS\n"
                    ]
                },
                {
                    "name": "stderr",
                    "output_type": "stream",
                    "text": [
                        " 54%|\u2588\u2588\u2588\u2588\u2588\u258d    | 57/105 [10:50<08:47, 10.99s/it]"
                    ]
                },
                {
                    "name": "stdout",
                    "output_type": "stream",
                    "text": [
                        "Processing well_dir: E7-1\n",
                        "Stacking channel 405\n",
                        "Stacking channel 488\n",
                        "Stacking channel 555\n",
                        "Stacking channel 640\n",
                        "Stacking channel TRANS\n"
                    ]
                },
                {
                    "name": "stderr",
                    "output_type": "stream",
                    "text": [
                        " 55%|\u2588\u2588\u2588\u2588\u2588\u258c    | 58/105 [10:54<07:05,  9.05s/it]"
                    ]
                },
                {
                    "name": "stdout",
                    "output_type": "stream",
                    "text": [
                        "Processing well_dir: E7-2\n",
                        "Stacking channel 405\n",
                        "Stacking channel 488\n",
                        "Stacking channel 555\n",
                        "Stacking channel 640\n",
                        "Stacking channel TRANS\n"
                    ]
                },
                {
                    "name": "stderr",
                    "output_type": "stream",
                    "text": [
                        " 56%|\u2588\u2588\u2588\u2588\u2588\u258c    | 59/105 [11:04<07:15,  9.46s/it]"
                    ]
                },
                {
                    "name": "stdout",
                    "output_type": "stream",
                    "text": [
                        "Processing well_dir: E8-1\n",
                        "Stacking channel 405\n",
                        "Stacking channel 488\n",
                        "Stacking channel 555\n",
                        "Stacking channel 640\n",
                        "Stacking channel TRANS\n"
                    ]
                },
                {
                    "name": "stderr",
                    "output_type": "stream",
                    "text": [
                        " 57%|\u2588\u2588\u2588\u2588\u2588\u258b    | 60/105 [11:16<07:27,  9.95s/it]"
                    ]
                },
                {
                    "name": "stdout",
                    "output_type": "stream",
                    "text": [
                        "Processing well_dir: E8-2\n",
                        "Stacking channel 405\n",
                        "Stacking channel 488\n",
                        "Stacking channel 555\n",
                        "Stacking channel 640\n",
                        "Stacking channel TRANS\n"
                    ]
                },
                {
                    "name": "stderr",
                    "output_type": "stream",
                    "text": [
                        " 58%|\u2588\u2588\u2588\u2588\u2588\u258a    | 61/105 [11:41<10:44, 14.64s/it]"
                    ]
                },
                {
                    "name": "stdout",
                    "output_type": "stream",
                    "text": [
                        "Processing well_dir: E9-1\n",
                        "Stacking channel 405\n",
                        "Stacking channel 488\n",
                        "Stacking channel 555\n",
                        "Stacking channel 640\n",
                        "Stacking channel TRANS\n"
                    ]
                },
                {
                    "name": "stderr",
                    "output_type": "stream",
                    "text": [
                        " 59%|\u2588\u2588\u2588\u2588\u2588\u2589    | 62/105 [11:56<10:38, 14.84s/it]"
                    ]
                },
                {
                    "name": "stdout",
                    "output_type": "stream",
                    "text": [
                        "Processing well_dir: F10-1\n",
                        "Stacking channel 405\n",
                        "Stacking channel 488\n",
                        "Stacking channel 555\n",
                        "Stacking channel 640\n",
                        "Stacking channel TRANS\n"
                    ]
                },
                {
                    "name": "stderr",
                    "output_type": "stream",
                    "text": [
                        " 60%|\u2588\u2588\u2588\u2588\u2588\u2588    | 63/105 [12:16<11:18, 16.14s/it]"
                    ]
                },
                {
                    "name": "stdout",
                    "output_type": "stream",
                    "text": [
                        "Processing well_dir: F10-2\n",
                        "Stacking channel 405\n",
                        "Stacking channel 488\n",
                        "Stacking channel 555\n",
                        "Stacking channel 640\n",
                        "Stacking channel TRANS\n"
                    ]
                },
                {
                    "name": "stderr",
                    "output_type": "stream",
                    "text": [
                        " 61%|\u2588\u2588\u2588\u2588\u2588\u2588    | 64/105 [12:33<11:22, 16.64s/it]"
                    ]
                },
                {
                    "name": "stdout",
                    "output_type": "stream",
                    "text": [
                        "Processing well_dir: F11-1\n",
                        "Stacking channel 405\n",
                        "Stacking channel 488\n",
                        "Stacking channel 555\n",
                        "Stacking channel 640\n",
                        "Stacking channel TRANS\n"
                    ]
                },
                {
                    "name": "stderr",
                    "output_type": "stream",
                    "text": [
                        " 62%|\u2588\u2588\u2588\u2588\u2588\u2588\u258f   | 65/105 [12:55<12:04, 18.12s/it]"
                    ]
                },
                {
                    "name": "stdout",
                    "output_type": "stream",
                    "text": [
                        "Processing well_dir: F11-2\n",
                        "Stacking channel 405\n",
                        "Stacking channel 488\n",
                        "Stacking channel 555\n",
                        "Stacking channel 640\n",
                        "Stacking channel TRANS\n"
                    ]
                },
                {
                    "name": "stderr",
                    "output_type": "stream",
                    "text": [
                        " 63%|\u2588\u2588\u2588\u2588\u2588\u2588\u258e   | 66/105 [13:01<09:26, 14.53s/it]"
                    ]
                },
                {
                    "name": "stdout",
                    "output_type": "stream",
                    "text": [
                        "Processing well_dir: F11-3\n",
                        "Stacking channel 405\n",
                        "Stacking channel 488\n",
                        "Stacking channel 555\n",
                        "Stacking channel 640\n",
                        "Stacking channel TRANS\n"
                    ]
                },
                {
                    "name": "stderr",
                    "output_type": "stream",
                    "text": [
                        " 64%|\u2588\u2588\u2588\u2588\u2588\u2588\u258d   | 67/105 [13:11<08:15, 13.04s/it]"
                    ]
                },
                {
                    "name": "stdout",
                    "output_type": "stream",
                    "text": [
                        "Processing well_dir: F2-1\n",
                        "Stacking channel 405\n",
                        "Stacking channel 488\n",
                        "Stacking channel 555\n",
                        "Stacking channel 640\n",
                        "Stacking channel TRANS\n"
                    ]
                },
                {
                    "name": "stderr",
                    "output_type": "stream",
                    "text": [
                        " 65%|\u2588\u2588\u2588\u2588\u2588\u2588\u258d   | 68/105 [13:16<06:40, 10.83s/it]"
                    ]
                },
                {
                    "name": "stdout",
                    "output_type": "stream",
                    "text": [
                        "Processing well_dir: F2-2\n",
                        "Stacking channel 405\n",
                        "Stacking channel 488\n",
                        "Stacking channel 555\n",
                        "Stacking channel 640\n",
                        "Stacking channel TRANS\n"
                    ]
                },
                {
                    "name": "stderr",
                    "output_type": "stream",
                    "text": [
                        " 66%|\u2588\u2588\u2588\u2588\u2588\u2588\u258c   | 69/105 [13:21<05:23,  8.98s/it]"
                    ]
                },
                {
                    "name": "stdout",
                    "output_type": "stream",
                    "text": [
                        "Processing well_dir: F3-2\n",
                        "No files found for channel 405 in /home/lippincm/Documents/GFF_3D_organoid_profiling_pipeline/data/NF0014/raw_images/F3-2. Skipping...\n",
                        "No files found for channel 488 in /home/lippincm/Documents/GFF_3D_organoid_profiling_pipeline/data/NF0014/raw_images/F3-2. Skipping...\n",
                        "No files found for channel 555 in /home/lippincm/Documents/GFF_3D_organoid_profiling_pipeline/data/NF0014/raw_images/F3-2. Skipping...\n",
                        "No files found for channel 640 in /home/lippincm/Documents/GFF_3D_organoid_profiling_pipeline/data/NF0014/raw_images/F3-2. Skipping...\n",
                        "No files found for channel TRANS in /home/lippincm/Documents/GFF_3D_organoid_profiling_pipeline/data/NF0014/raw_images/F3-2. Skipping...\n",
                        "Processing well_dir: F4-1\n",
                        "Stacking channel 405\n",
                        "Stacking channel 488\n",
                        "Stacking channel 555\n",
                        "Stacking channel 640\n",
                        "Stacking channel TRANS\n"
                    ]
                },
                {
                    "name": "stderr",
                    "output_type": "stream",
                    "text": [
                        " 68%|\u2588\u2588\u2588\u2588\u2588\u2588\u258a   | 71/105 [13:38<04:55,  8.69s/it]"
                    ]
                },
                {
                    "name": "stdout",
                    "output_type": "stream",
                    "text": [
                        "Processing well_dir: F4-2\n",
                        "Stacking channel 405\n",
                        "Stacking channel 488\n",
                        "Stacking channel 555\n",
                        "Stacking channel 640\n",
                        "Stacking channel TRANS\n"
                    ]
                },
                {
                    "name": "stderr",
                    "output_type": "stream",
                    "text": [
                        " 69%|\u2588\u2588\u2588\u2588\u2588\u2588\u258a   | 72/105 [14:01<06:41, 12.17s/it]"
                    ]
                },
                {
                    "name": "stdout",
                    "output_type": "stream",
                    "text": [
                        "Processing well_dir: F4-3\n",
                        "Stacking channel 405\n",
                        "Stacking channel 488\n",
                        "Stacking channel 555\n",
                        "Stacking channel 640\n",
                        "Stacking channel TRANS\n"
                    ]
                },
                {
                    "name": "stderr",
                    "output_type": "stream",
                    "text": [
                        " 70%|\u2588\u2588\u2588\u2588\u2588\u2588\u2589   | 73/105 [14:17<07:04, 13.26s/it]"
                    ]
                },
                {
                    "name": "stdout",
                    "output_type": "stream",
                    "text": [
                        "Processing well_dir: F5-1\n",
                        "Stacking channel 405\n",
                        "Stacking channel 488\n",
                        "Stacking channel 555\n",
                        "Stacking channel 640\n",
                        "Stacking channel TRANS\n"
                    ]
                },
                {
                    "name": "stderr",
                    "output_type": "stream",
                    "text": [
                        " 70%|\u2588\u2588\u2588\u2588\u2588\u2588\u2588   | 74/105 [14:33<07:13, 13.98s/it]"
                    ]
                },
                {
                    "name": "stdout",
                    "output_type": "stream",
                    "text": [
                        "Processing well_dir: F5-2\n",
                        "Stacking channel 405\n",
                        "Stacking channel 488\n",
                        "Stacking channel 555\n",
                        "Stacking channel 640\n",
                        "Stacking channel TRANS\n"
                    ]
                },
                {
                    "name": "stderr",
                    "output_type": "stream",
                    "text": [
                        " 71%|\u2588\u2588\u2588\u2588\u2588\u2588\u2588\u258f  | 75/105 [14:47<07:01, 14.04s/it]"
                    ]
                },
                {
                    "name": "stdout",
                    "output_type": "stream",
                    "text": [
                        "Processing well_dir: F6-1\n",
                        "Stacking channel 405\n",
                        "Stacking channel 488\n",
                        "Stacking channel 555\n",
                        "Stacking channel 640\n",
                        "Stacking channel TRANS\n"
                    ]
                },
                {
                    "name": "stderr",
                    "output_type": "stream",
                    "text": [
                        " 72%|\u2588\u2588\u2588\u2588\u2588\u2588\u2588\u258f  | 76/105 [15:03<07:05, 14.66s/it]"
                    ]
                },
                {
                    "name": "stdout",
                    "output_type": "stream",
                    "text": [
                        "Processing well_dir: F6-2\n",
                        "Stacking channel 405\n",
                        "Stacking channel 488\n",
                        "Stacking channel 555\n",
                        "Stacking channel 640\n",
                        "Stacking channel TRANS\n"
                    ]
                },
                {
                    "name": "stderr",
                    "output_type": "stream",
                    "text": [
                        " 73%|\u2588\u2588\u2588\u2588\u2588\u2588\u2588\u258e  | 77/105 [15:26<07:53, 16.90s/it]"
                    ]
                },
                {
                    "name": "stdout",
                    "output_type": "stream",
                    "text": [
                        "Processing well_dir: F7-1\n",
                        "Stacking channel 405\n",
                        "Stacking channel 488\n",
                        "Stacking channel 555\n",
                        "Stacking channel 640\n",
                        "Stacking channel TRANS\n"
                    ]
                },
                {
                    "name": "stderr",
                    "output_type": "stream",
                    "text": [
                        " 74%|\u2588\u2588\u2588\u2588\u2588\u2588\u2588\u258d  | 78/105 [15:36<06:48, 15.15s/it]"
                    ]
                },
                {
                    "name": "stdout",
                    "output_type": "stream",
                    "text": [
                        "Processing well_dir: F7-2\n",
                        "Stacking channel 405\n",
                        "Stacking channel 488\n",
                        "Stacking channel 555\n",
                        "Stacking channel 640\n",
                        "Stacking channel TRANS\n"
                    ]
                },
                {
                    "name": "stderr",
                    "output_type": "stream",
                    "text": [
                        " 75%|\u2588\u2588\u2588\u2588\u2588\u2588\u2588\u258c  | 79/105 [15:51<06:30, 15.02s/it]"
                    ]
                },
                {
                    "name": "stdout",
                    "output_type": "stream",
                    "text": [
                        "Processing well_dir: F8-1\n",
                        "Stacking channel 405\n",
                        "Stacking channel 488\n",
                        "Stacking channel 555\n",
                        "Stacking channel 640\n",
                        "Stacking channel TRANS\n"
                    ]
                },
                {
                    "name": "stderr",
                    "output_type": "stream",
                    "text": [
                        " 76%|\u2588\u2588\u2588\u2588\u2588\u2588\u2588\u258c  | 80/105 [16:00<05:27, 13.09s/it]"
                    ]
                },
                {
                    "name": "stdout",
                    "output_type": "stream",
                    "text": [
                        "Processing well_dir: F8-2\n",
                        "Stacking channel 405\n",
                        "Stacking channel 488\n",
                        "Stacking channel 555\n",
                        "Stacking channel 640\n",
                        "Stacking channel TRANS\n"
                    ]
                },
                {
                    "name": "stderr",
                    "output_type": "stream",
                    "text": [
                        " 77%|\u2588\u2588\u2588\u2588\u2588\u2588\u2588\u258b  | 81/105 [16:16<05:39, 14.14s/it]"
                    ]
                },
                {
                    "name": "stdout",
                    "output_type": "stream",
                    "text": [
                        "Processing well_dir: F9-1\n",
                        "Stacking channel 405\n",
                        "Stacking channel 488\n",
                        "Stacking channel 555\n",
                        "Stacking channel 640\n",
                        "Stacking channel TRANS\n"
                    ]
                },
                {
                    "name": "stderr",
                    "output_type": "stream",
                    "text": [
                        " 78%|\u2588\u2588\u2588\u2588\u2588\u2588\u2588\u258a  | 82/105 [16:21<04:22, 11.43s/it]"
                    ]
                },
                {
                    "name": "stdout",
                    "output_type": "stream",
                    "text": [
                        "Processing well_dir: F9-2\n",
                        "Stacking channel 405\n",
                        "Stacking channel 488\n",
                        "Stacking channel 555\n",
                        "Stacking channel 640\n",
                        "Stacking channel TRANS\n"
                    ]
                },
                {
                    "name": "stderr",
                    "output_type": "stream",
                    "text": [
                        " 79%|\u2588\u2588\u2588\u2588\u2588\u2588\u2588\u2589  | 83/105 [16:38<04:47, 13.06s/it]"
                    ]
                },
                {
                    "name": "stdout",
                    "output_type": "stream",
                    "text": [
                        "Processing well_dir: G10-1\n",
                        "Stacking channel 405\n",
                        "Stacking channel 488\n",
                        "Stacking channel 555\n",
                        "Stacking channel 640\n",
                        "Stacking channel TRANS\n"
                    ]
                },
                {
                    "name": "stderr",
                    "output_type": "stream",
                    "text": [
                        " 80%|\u2588\u2588\u2588\u2588\u2588\u2588\u2588\u2588  | 84/105 [16:59<05:21, 15.31s/it]"
                    ]
                },
                {
                    "name": "stdout",
                    "output_type": "stream",
                    "text": [
                        "Processing well_dir: G10-2\n",
                        "Stacking channel 405\n",
                        "Stacking channel 488\n",
                        "Stacking channel 555\n",
                        "Stacking channel 640\n",
                        "Stacking channel TRANS\n"
                    ]
                },
                {
                    "name": "stderr",
                    "output_type": "stream",
                    "text": [
                        " 81%|\u2588\u2588\u2588\u2588\u2588\u2588\u2588\u2588  | 85/105 [17:12<04:55, 14.76s/it]"
                    ]
                },
                {
                    "name": "stdout",
                    "output_type": "stream",
                    "text": [
                        "Processing well_dir: G10-3\n",
                        "Stacking channel 405\n",
                        "Stacking channel 488\n",
                        "Stacking channel 555\n",
                        "Stacking channel 640\n",
                        "Stacking channel TRANS\n"
                    ]
                },
                {
                    "name": "stderr",
                    "output_type": "stream",
                    "text": [
                        " 82%|\u2588\u2588\u2588\u2588\u2588\u2588\u2588\u2588\u258f | 86/105 [17:26<04:36, 14.58s/it]"
                    ]
                },
                {
                    "name": "stdout",
                    "output_type": "stream",
                    "text": [
                        "Processing well_dir: G11-1\n",
                        "Stacking channel 405\n",
                        "Stacking channel 488\n",
                        "Stacking channel 555\n",
                        "Stacking channel 640\n",
                        "Stacking channel TRANS\n"
                    ]
                },
                {
                    "name": "stderr",
                    "output_type": "stream",
                    "text": [
                        " 83%|\u2588\u2588\u2588\u2588\u2588\u2588\u2588\u2588\u258e | 87/105 [17:33<03:41, 12.30s/it]"
                    ]
                },
                {
                    "name": "stdout",
                    "output_type": "stream",
                    "text": [
                        "Processing well_dir: G11-2\n",
                        "Stacking channel 405\n",
                        "Stacking channel 488\n",
                        "Stacking channel 555\n",
                        "Stacking channel 640\n",
                        "Stacking channel TRANS\n"
                    ]
                },
                {
                    "name": "stderr",
                    "output_type": "stream",
                    "text": [
                        " 84%|\u2588\u2588\u2588\u2588\u2588\u2588\u2588\u2588\u258d | 88/105 [17:39<02:53, 10.19s/it]"
                    ]
                },
                {
                    "name": "stdout",
                    "output_type": "stream",
                    "text": [
                        "Processing well_dir: G2-1\n",
                        "Stacking channel 405\n",
                        "Stacking channel 488\n",
                        "Stacking channel 555\n",
                        "Stacking channel 640\n",
                        "Stacking channel TRANS\n"
                    ]
                },
                {
                    "name": "stderr",
                    "output_type": "stream",
                    "text": [
                        " 85%|\u2588\u2588\u2588\u2588\u2588\u2588\u2588\u2588\u258d | 89/105 [17:50<02:50, 10.67s/it]"
                    ]
                },
                {
                    "name": "stdout",
                    "output_type": "stream",
                    "text": [
                        "Processing well_dir: G2-2\n",
                        "Stacking channel 405\n",
                        "Stacking channel 488\n",
                        "Stacking channel 555\n",
                        "Stacking channel 640\n",
                        "Stacking channel TRANS\n"
                    ]
                },
                {
                    "name": "stderr",
                    "output_type": "stream",
                    "text": [
                        " 86%|\u2588\u2588\u2588\u2588\u2588\u2588\u2588\u2588\u258c | 90/105 [17:56<02:15,  9.01s/it]"
                    ]
                },
                {
                    "name": "stdout",
                    "output_type": "stream",
                    "text": [
                        "Processing well_dir: G3-1\n",
                        "Stacking channel 405\n",
                        "Stacking channel 488\n",
                        "Stacking channel 555\n",
                        "Stacking channel 640\n",
                        "Stacking channel TRANS\n"
                    ]
                },
                {
                    "name": "stderr",
                    "output_type": "stream",
                    "text": [
                        " 87%|\u2588\u2588\u2588\u2588\u2588\u2588\u2588\u2588\u258b | 91/105 [18:12<02:38, 11.29s/it]"
                    ]
                },
                {
                    "name": "stdout",
                    "output_type": "stream",
                    "text": [
                        "Processing well_dir: G3-2\n",
                        "Stacking channel 405\n",
                        "Stacking channel 488\n",
                        "Stacking channel 555\n",
                        "Stacking channel 640\n",
                        "Stacking channel TRANS\n"
                    ]
                },
                {
                    "name": "stderr",
                    "output_type": "stream",
                    "text": [
                        " 88%|\u2588\u2588\u2588\u2588\u2588\u2588\u2588\u2588\u258a | 92/105 [18:27<02:40, 12.36s/it]"
                    ]
                },
                {
                    "name": "stdout",
                    "output_type": "stream",
                    "text": [
                        "Processing well_dir: G4-1\n",
                        "Stacking channel 405\n",
                        "Stacking channel 488\n",
                        "Stacking channel 555\n",
                        "Stacking channel 640\n",
                        "Stacking channel TRANS\n"
                    ]
                },
                {
                    "name": "stderr",
                    "output_type": "stream",
                    "text": [
                        " 89%|\u2588\u2588\u2588\u2588\u2588\u2588\u2588\u2588\u258a | 93/105 [18:37<02:19, 11.64s/it]"
                    ]
                },
                {
                    "name": "stdout",
                    "output_type": "stream",
                    "text": [
                        "Processing well_dir: G4-2\n",
                        "Stacking channel 405\n",
                        "Stacking channel 488\n",
                        "Stacking channel 555\n",
                        "Stacking channel 640\n",
                        "Stacking channel TRANS\n"
                    ]
                },
                {
                    "name": "stderr",
                    "output_type": "stream",
                    "text": [
                        " 90%|\u2588\u2588\u2588\u2588\u2588\u2588\u2588\u2588\u2589 | 94/105 [18:51<02:15, 12.35s/it]"
                    ]
                },
                {
                    "name": "stdout",
                    "output_type": "stream",
                    "text": [
                        "Processing well_dir: G5-1\n",
                        "Stacking channel 405\n",
                        "Stacking channel 488\n",
                        "Stacking channel 555\n",
                        "Stacking channel 640\n",
                        "Stacking channel TRANS\n"
                    ]
                },
                {
                    "name": "stderr",
                    "output_type": "stream",
                    "text": [
                        " 90%|\u2588\u2588\u2588\u2588\u2588\u2588\u2588\u2588\u2588 | 95/105 [19:00<01:52, 11.29s/it]"
                    ]
                },
                {
                    "name": "stdout",
                    "output_type": "stream",
                    "text": [
                        "Processing well_dir: G5-2\n",
                        "Stacking channel 405\n",
                        "Stacking channel 488\n",
                        "Stacking channel 555\n",
                        "Stacking channel 640\n",
                        "Stacking channel TRANS\n"
                    ]
                },
                {
                    "name": "stderr",
                    "output_type": "stream",
                    "text": [
                        " 91%|\u2588\u2588\u2588\u2588\u2588\u2588\u2588\u2588\u2588\u258f| 96/105 [19:11<01:41, 11.28s/it]"
                    ]
                },
                {
                    "name": "stdout",
                    "output_type": "stream",
                    "text": [
                        "Processing well_dir: G6-1\n",
                        "Stacking channel 405\n",
                        "Stacking channel 488\n",
                        "Stacking channel 555\n",
                        "Stacking channel 640\n",
                        "Stacking channel TRANS\n"
                    ]
                },
                {
                    "name": "stderr",
                    "output_type": "stream",
                    "text": [
                        " 92%|\u2588\u2588\u2588\u2588\u2588\u2588\u2588\u2588\u2588\u258f| 97/105 [19:17<01:17,  9.67s/it]"
                    ]
                },
                {
                    "name": "stdout",
                    "output_type": "stream",
                    "text": [
                        "Processing well_dir: G6-2\n",
                        "Stacking channel 405\n",
                        "Stacking channel 488\n",
                        "Stacking channel 555\n",
                        "Stacking channel 640\n",
                        "Stacking channel TRANS\n"
                    ]
                },
                {
                    "name": "stderr",
                    "output_type": "stream",
                    "text": [
                        " 93%|\u2588\u2588\u2588\u2588\u2588\u2588\u2588\u2588\u2588\u258e| 98/105 [19:26<01:07,  9.58s/it]"
                    ]
                },
                {
                    "name": "stdout",
                    "output_type": "stream",
                    "text": [
                        "Processing well_dir: G7-1\n",
                        "Stacking channel 405\n",
                        "Stacking channel 488\n",
                        "Stacking channel 555\n",
                        "Stacking channel 640\n",
                        "Stacking channel TRANS\n"
                    ]
                },
                {
                    "name": "stderr",
                    "output_type": "stream",
                    "text": [
                        " 94%|\u2588\u2588\u2588\u2588\u2588\u2588\u2588\u2588\u2588\u258d| 99/105 [19:35<00:56,  9.35s/it]"
                    ]
                },
                {
                    "name": "stdout",
                    "output_type": "stream",
                    "text": [
                        "Processing well_dir: G7-2\n",
                        "Stacking channel 405\n",
                        "Stacking channel 488\n",
                        "Stacking channel 555\n",
                        "Stacking channel 640\n",
                        "Stacking channel TRANS\n"
                    ]
                },
                {
                    "name": "stderr",
                    "output_type": "stream",
                    "text": [
                        " 95%|\u2588\u2588\u2588\u2588\u2588\u2588\u2588\u2588\u2588\u258c| 100/105 [19:41<00:41,  8.23s/it]"
                    ]
                },
                {
                    "name": "stdout",
                    "output_type": "stream",
                    "text": [
                        "Processing well_dir: G8-1\n",
                        "Stacking channel 405\n",
                        "Stacking channel 488\n",
                        "Stacking channel 555\n",
                        "Stacking channel 640\n",
                        "Stacking channel TRANS\n"
                    ]
                },
                {
                    "name": "stderr",
                    "output_type": "stream",
                    "text": [
                        " 96%|\u2588\u2588\u2588\u2588\u2588\u2588\u2588\u2588\u2588\u258c| 101/105 [19:56<00:40, 10.23s/it]"
                    ]
                },
                {
                    "name": "stdout",
                    "output_type": "stream",
                    "text": [
                        "Processing well_dir: G8-2\n",
                        "Stacking channel 405\n",
                        "Stacking channel 488\n",
                        "Stacking channel 555\n",
                        "Stacking channel 640\n",
                        "Stacking channel TRANS\n"
                    ]
                },
                {
                    "name": "stderr",
                    "output_type": "stream",
                    "text": [
                        " 97%|\u2588\u2588\u2588\u2588\u2588\u2588\u2588\u2588\u2588\u258b| 102/105 [20:06<00:30, 10.20s/it]"
                    ]
                },
                {
                    "name": "stdout",
                    "output_type": "stream",
                    "text": [
                        "Processing well_dir: G9-1\n",
                        "Stacking channel 405\n",
                        "Stacking channel 488\n",
                        "Stacking channel 555\n",
                        "Stacking channel 640\n",
                        "Stacking channel TRANS\n"
                    ]
                },
                {
                    "name": "stderr",
                    "output_type": "stream",
                    "text": [
                        " 98%|\u2588\u2588\u2588\u2588\u2588\u2588\u2588\u2588\u2588\u258a| 103/105 [20:25<00:25, 12.86s/it]"
                    ]
                },
                {
                    "name": "stdout",
                    "output_type": "stream",
                    "text": [
                        "Processing well_dir: G9-2\n",
                        "Stacking channel 405\n",
                        "Stacking channel 488\n",
                        "Stacking channel 555\n",
                        "Stacking channel 640\n",
                        "Stacking channel TRANS\n"
                    ]
                },
                {
                    "name": "stderr",
                    "output_type": "stream",
                    "text": [
                        " 99%|\u2588\u2588\u2588\u2588\u2588\u2588\u2588\u2588\u2588\u2589| 104/105 [20:50<00:16, 16.41s/it]"
                    ]
                },
                {
                    "name": "stdout",
                    "output_type": "stream",
                    "text": [
                        "Processing well_dir: raw_z_input\n",
                        "Stacking channel 405\n",
                        "Stacking channel 488\n",
                        "Stacking channel 555\n",
                        "Stacking channel 640\n",
                        "Stacking channel TRANS\n"
                    ]
                },
                {
                    "name": "stderr",
                    "output_type": "stream",
                    "text": [
                        "100%|\u2588\u2588\u2588\u2588\u2588\u2588\u2588\u2588\u2588\u2588| 105/105 [21:03<00:00, 12.03s/it]\n"
                    ]
                }
            ],
            "source": [
                "for well_dir in tqdm.tqdm(input_dirs):\n",
                "    print(f\"Processing well_dir: {well_dir.stem}\")  # Debug\n",
                "    channel_images = {channel_name: {\"filepath\": []} for channel_name in channel_names}\n",
                "\n",
                "    # Get all the images in the directory\n",
                "    for filename in well_dir.glob(\"*\"):\n",
                "        if filename.suffix in image_extensions:\n",
                "            for channel_name in channel_names:\n",
                "                if channel_name in filename.name:\n",
                "                    channel_images[channel_name][\"filepath\"].append(filename)\n",
                "                    break\n",
                "\n",
                "    # Iterate through each channel\n",
                "    for channel_name in channel_names:\n",
                "        # Sort and check filepaths\n",
                "        channel_images[channel_name][\"filepath\"] = sorted(\n",
                "            channel_images[channel_name][\"filepath\"]\n",
                "        )\n",
                "        if not channel_images[channel_name][\"filepath\"]:\n",
                "            print(\n",
                "                f\"No files found for channel {channel_name} in {well_dir}. Skipping...\"\n",
                "            )\n",
                "            continue\n",
                "\n",
                "        # Confirm before accessing\n",
                "        print(f\"Stacking channel {channel_name}\")  # Debug\n",
                "\n",
                "        # read the image files from the sorted file paths and stack them into a numpy array\n",
                "        images_to_stack = np.array(\n",
                "            [\n",
                "                tiff.imread(filepath)\n",
                "                for filepath in channel_images[channel_name][\"filepath\"]\n",
                "            ]\n",
                "        )\n",
                "        filepath = channel_images[channel_name][\"filepath\"][0]\n",
                "        well = str(filepath.parent).split(\"/\")[-1]\n",
                "        output_path = output_z_stack_dir / f\"{well}\" / f\"{well}_{channel_name}.tif\"\n",
                "        output_path.parent.mkdir(exist_ok=True, parents=True)\n",
                "        tiff.imwrite(output_path, images_to_stack)"
            ]
        }
    ],
    "metadata": {
        "kernelspec": {
            "display_name": "GFF_segmentation",
            "language": "python",
            "name": "python3"
        },
        "language_info": {
            "codemirror_mode": {
                "name": "ipython",
                "version": 3
            },
            "file_extension": ".py",
            "mimetype": "text/x-python",
            "name": "python",
            "nbconvert_exporter": "python",
            "pygments_lexer": "ipython3",
            "version": "3.11.11"
        }
    },
    "nbformat": 4,
    "nbformat_minor": 2
}
