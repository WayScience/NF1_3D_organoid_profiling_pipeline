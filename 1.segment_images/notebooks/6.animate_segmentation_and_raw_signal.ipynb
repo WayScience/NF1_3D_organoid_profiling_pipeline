{
    "cells": [
        {
            "cell_type": "markdown",
            "id": "e6d8095a",
            "metadata": {
                "papermill": {
                    "duration": 0.001641,
                    "end_time": "2024-12-24T21:59:32.896576",
                    "exception": false,
                    "start_time": "2024-12-24T21:59:32.894935",
                    "status": "completed"
                },
                "tags": []
            },
            "source": [
                "## Imports"
            ]
        },
        {
            "cell_type": "code",
            "execution_count": 1,
            "id": "36e79f2f",
            "metadata": {
                "execution": {
                    "iopub.execute_input": "2024-12-24T21:59:32.900560Z",
                    "iopub.status.busy": "2024-12-24T21:59:32.900397Z",
                    "iopub.status.idle": "2024-12-24T21:59:35.986533Z",
                    "shell.execute_reply": "2024-12-24T21:59:35.986131Z"
                },
                "papermill": {
                    "duration": 3.089228,
                    "end_time": "2024-12-24T21:59:35.987496",
                    "exception": false,
                    "start_time": "2024-12-24T21:59:32.898268",
                    "status": "completed"
                },
                "tags": []
            },
            "outputs": [],
            "source": [
                "import argparse\n",
                "import pathlib\n",
                "\n",
                "import imageio\n",
                "\n",
                "# import matplotlib.pyplot as plt\n",
                "import numpy as np\n",
                "from moviepy.editor import VideoFileClip\n",
                "from napari_animation import Animation\n",
                "from napari_animation.easing import Easing\n",
                "from nviz.image import image_set_to_arrays\n",
                "from nviz.image_meta import generate_ome_xml\n",
                "from nviz.view import view_ometiff_with_napari\n",
                "from PIL import Image\n",
                "\n",
                "# check if in a jupyter notebook\n",
                "try:\n",
                "    cfg = get_ipython().config\n",
                "    in_notebook = True\n",
                "except NameError:\n",
                "    in_notebook = False"
            ]
        },
        {
            "cell_type": "code",
            "execution_count": 2,
            "id": "2b5c9c9b",
            "metadata": {
                "execution": {
                    "iopub.execute_input": "2024-12-24T21:59:35.993897Z",
                    "iopub.status.busy": "2024-12-24T21:59:35.993628Z",
                    "iopub.status.idle": "2024-12-24T21:59:35.998696Z",
                    "shell.execute_reply": "2024-12-24T21:59:35.998382Z"
                },
                "papermill": {
                    "duration": 0.008793,
                    "end_time": "2024-12-24T21:59:35.999282",
                    "exception": false,
                    "start_time": "2024-12-24T21:59:35.990489",
                    "status": "completed"
                },
                "tags": []
            },
            "outputs": [
                {
                    "name": "stdout",
                    "output_type": "stream",
                    "text": [
                        "Running in a notebook\n"
                    ]
                }
            ],
            "source": [
                "if not in_notebook:\n",
                "    print(\"Running as script\")\n",
                "    # set up arg parser\n",
                "    parser = argparse.ArgumentParser(description=\"Segment the nuclei of a tiff image\")\n",
                "\n",
                "    parser.add_argument(\n",
                "        \"--image_dir\",\n",
                "        type=str,\n",
                "        help=\"Path to the input directory containing the tiff images\",\n",
                "        required=True,\n",
                "    )\n",
                "\n",
                "    args = parser.parse_args()\n",
                "    image_dir = pathlib.Path(args.image_dir).resolve(strict=True)\n",
                "    label_dir = pathlib.Path(f\"../processed_data/{image_dir.name}\").resolve(strict=True)\n",
                "    mp4_file_dir = pathlib.Path(\"../animations/mp4/well_fov/\").resolve()\n",
                "    gif_file_dir = pathlib.Path(\"../animations/gif/well_fov/\").resolve()\n",
                "else:\n",
                "    print(\"Running in a notebook\")\n",
                "    image_dir = pathlib.Path(\"../../data/NF0014/zstack_images/C4-2/\").resolve(\n",
                "        strict=True\n",
                "    )\n",
                "    label_dir = pathlib.Path(f\"../processed_data/{image_dir.name}\").resolve(strict=True)\n",
                "    mp4_file_dir = pathlib.Path(\"../animations/test/mp4/well_fov/\").resolve()\n",
                "    gif_file_dir = pathlib.Path(\"../animations/test/gif/well_fov/\").resolve()\n",
                "\n",
                "well_fov = image_dir.name\n",
                "\n",
                "\n",
                "mp4_file_dir.mkdir(parents=True, exist_ok=True)\n",
                "gif_file_dir.mkdir(parents=True, exist_ok=True)\n",
                "tmp_output_path = \"output.zarr\""
            ]
        },
        {
            "cell_type": "code",
            "execution_count": 3,
            "id": "175c3eaa",
            "metadata": {},
            "outputs": [],
            "source": [
                "def mp4_to_gif(input_mp4, output_gif, fps=10):\n",
                "    clip = VideoFileClip(input_mp4)\n",
                "    clip = clip.set_fps(fps)  # Reduce FPS to control file size\n",
                "    clip.write_gif(output_gif, loop=0)  # loop=0 makes it loop forever\n",
                "    print(f\"Converted {input_mp4} to {output_gif}\")"
            ]
        },
        {
            "cell_type": "code",
            "execution_count": 4,
            "id": "c20fe8ae",
            "metadata": {},
            "outputs": [],
            "source": [
                "def animate_view(\n",
                "    viewer, output_path_name: str, steps: int = 30, easing: str = \"linear\", dim: int = 3\n",
                "):\n",
                "    animation = Animation(viewer)\n",
                "    if easing == \"linear\":\n",
                "        ease_style = Easing.LINEAR\n",
                "    else:\n",
                "        raise ValueError(f\"Invalid easing style: {easing}\")\n",
                "\n",
                "    viewer.dims.ndisplay = dim\n",
                "    # rotate around the y-axis\n",
                "    viewer.camera.angles = (0.0, 0.0, 90.0)  # (z, y, x) axis of rotation\n",
                "    animation.capture_keyframe(steps=steps, ease=ease_style)\n",
                "\n",
                "    viewer.camera.angles = (0.0, 180.0, 90.0)\n",
                "    animation.capture_keyframe(steps=steps, ease=ease_style)\n",
                "\n",
                "    viewer.camera.angles = (0.0, 360.0, 90.0)\n",
                "    animation.capture_keyframe(steps=steps, ease=ease_style)\n",
                "\n",
                "    viewer.camera.angles = (0.0, 0.0, 270.0)\n",
                "    animation.capture_keyframe(steps=steps, ease=ease_style)\n",
                "\n",
                "    viewer.camera.angles = (0.0, 0.0, 90.0)\n",
                "    animation.capture_keyframe(steps=steps, ease=ease_style)\n",
                "\n",
                "    animation.animate(output_path_name, canvas_only=True)"
            ]
        },
        {
            "cell_type": "code",
            "execution_count": 5,
            "id": "a848a1e9",
            "metadata": {},
            "outputs": [],
            "source": [
                "channel_map = {\n",
                "    \"405\": \"Nuclei\",\n",
                "    \"488\": \"Endoplasmic Reticulum\",\n",
                "    \"555\": \"Actin, Golgi, and plasma membrane (AGP)\",\n",
                "    \"640\": \"Mitochondria\",\n",
                "    \"TRANS\": \"Brightfield\",\n",
                "}\n",
                "scaling_values = [1, 0.1, 0.1]"
            ]
        },
        {
            "cell_type": "code",
            "execution_count": 6,
            "id": "72ee059a",
            "metadata": {},
            "outputs": [
                {
                    "name": "stdout",
                    "output_type": "stream",
                    "text": [
                        "dict_keys(['C4-2_405', 'C4-2_488', 'C4-2_555', 'C4-2_640', 'C4-2_TRANS'])\n",
                        "dict_keys(['cell_masks_decoupled', 'cell_masks_reconstructed', 'cytoplasm_mask', 'nuclei_masks_decoupled', 'nuclei_masks_reconstructed', 'organoid_masks_decoupled', 'organoid_masks_reconstructed'])\n"
                    ]
                }
            ],
            "source": [
                "frame_zstacks = image_set_to_arrays(\n",
                "    image_dir,\n",
                "    label_dir,\n",
                "    channel_map=channel_map,\n",
                ")\n",
                "\n",
                "print(frame_zstacks[\"images\"].keys())\n",
                "print(frame_zstacks[\"labels\"].keys())"
            ]
        },
        {
            "cell_type": "code",
            "execution_count": 7,
            "id": "8d385ed0",
            "metadata": {},
            "outputs": [],
            "source": [
                "images_data = []\n",
                "labels_data = []\n",
                "channel_names = []\n",
                "label_names = []\n",
                "\n",
                "\n",
                "for channel, stack in frame_zstacks[\"images\"].items():\n",
                "    dim = len(stack.shape)\n",
                "    images_data.append(stack)\n",
                "    channel_names.append(channel)\n",
                "\n",
                "# Collect label data\n",
                "if label_dir:\n",
                "    for compartment_name, stack in frame_zstacks[\"labels\"].items():\n",
                "        if len(stack.shape) != dim:\n",
                "            if len(stack.shape) == 3:\n",
                "                stack = np.expand_dims(stack, axis=0)\n",
                "        labels_data.append(stack)\n",
                "        label_names.append(f\"{compartment_name} (labels)\")\n",
                "# Stack the images and labels along a new axis for channels\n",
                "images_data = np.stack(images_data, axis=0)"
            ]
        },
        {
            "cell_type": "code",
            "execution_count": 8,
            "id": "c6472193",
            "metadata": {},
            "outputs": [],
            "source": [
                "if labels_data:\n",
                "    labels_data = np.stack(labels_data, axis=0)\n",
                "    combined_data = np.concatenate((images_data, labels_data), axis=0)\n",
                "    combined_channel_names = channel_names + label_names\n",
                "else:\n",
                "    combined_data = images_data\n",
                "    combined_channel_names = channel_names\n",
                "# Generate OME-XML metadata\n",
                "ome_metadata = {\n",
                "    \"SizeC\": combined_data.shape[0],\n",
                "    \"SizeZ\": combined_data.shape[1],\n",
                "    \"SizeY\": combined_data.shape[2],\n",
                "    \"SizeX\": combined_data.shape[3],\n",
                "    \"PhysicalSizeX\": scaling_values[2],\n",
                "    \"PhysicalSizeY\": scaling_values[1],\n",
                "    \"PhysicalSizeZ\": scaling_values[0],\n",
                "    # note: we use 7-bit ascii compatible characters below\n",
                "    # due to tifffile limitations\n",
                "    \"PhysicalSizeXUnit\": \"um\",\n",
                "    \"PhysicalSizeYUnit\": \"um\",\n",
                "    \"PhysicalSizeZUnit\": \"um\",\n",
                "    \"Channel\": [{\"Name\": name} for name in combined_channel_names],\n",
                "}\n",
                "ome_xml = generate_ome_xml(ome_metadata)\n",
                "import tifffile as tiff\n",
                "\n",
                "# Write the combined data to a single OME-TIFF\n",
                "with tiff.TiffWriter(tmp_output_path, bigtiff=True) as tif:\n",
                "    tif.write(combined_data, description=ome_xml, photometric=\"minisblack\")"
            ]
        },
        {
            "cell_type": "code",
            "execution_count": 9,
            "id": "3e25d28a",
            "metadata": {},
            "outputs": [],
            "source": [
                "# import shutil\n",
                "# shutil.rmtree(output_path, ignore_errors=True)\n",
                "# nviz.image.tiff_to_ometiff(\n",
                "#     image_dir=image_dir,\n",
                "#     label_dir=label_dir,\n",
                "#     output_path=output_path,\n",
                "#     channel_map=channel_map,\n",
                "#     scaling_values=scaling_values,\n",
                "#     ignore=[],\n",
                "# )"
            ]
        },
        {
            "cell_type": "code",
            "execution_count": 10,
            "id": "d00fec18",
            "metadata": {},
            "outputs": [
                {
                    "name": "stderr",
                    "output_type": "stream",
                    "text": [
                        "Running view in headless mode and returning a napari viewer object.\n"
                    ]
                }
            ],
            "source": [
                "viewer = view_ometiff_with_napari(\n",
                "    ometiff_path=tmp_output_path,\n",
                "    scaling_values=scaling_values,\n",
                "    headless=True,\n",
                ")\n",
                "# make the viewer full screen\n",
                "viewer.window._qt_window.showMaximized()\n",
                "# hide the layer controls\n",
                "viewer.window._qt_viewer.dockLayerList.setVisible(False)\n",
                "# hide the layer controls\n",
                "viewer.window._qt_viewer.dockLayerControls.setVisible(False)\n",
                "\n",
                "# set the viewer to a set window size\n",
                "viewer.window._qt_window.resize(1000, 1000)"
            ]
        },
        {
            "cell_type": "code",
            "execution_count": 11,
            "id": "d0d9f50e",
            "metadata": {},
            "outputs": [
                {
                    "name": "stdout",
                    "output_type": "stream",
                    "text": [
                        "Setting C4-2_405 to not visible\n",
                        "Setting C4-2_488 to not visible\n",
                        "Setting C4-2_555 to not visible\n",
                        "Setting C4-2_640 to not visible\n",
                        "Setting C4-2_TRANS to not visible\n",
                        "Setting cell_masks_decoupled (labels) to not visible\n",
                        "Setting cell_masks_reconstructed (labels) to not visible\n",
                        "Setting cytoplasm_mask (labels) to not visible\n",
                        "Setting nuclei_masks_decoupled (labels) to not visible\n",
                        "Setting nuclei_masks_reconstructed (labels) to not visible\n",
                        "Setting organoid_masks_decoupled (labels) to not visible\n",
                        "Setting organoid_masks_reconstructed (labels) to not visible\n"
                    ]
                }
            ],
            "source": [
                "# get the layer names in the viewer\n",
                "layer_names = [layer.name for layer in viewer.layers]\n",
                "# set all layers to not visible\n",
                "for layer_name in layer_names:\n",
                "    print(f\"Setting {layer_name} to not visible\")\n",
                "    viewer.layers[layer_name].visible = False"
            ]
        },
        {
            "cell_type": "code",
            "execution_count": 12,
            "id": "f0dce30a",
            "metadata": {},
            "outputs": [
                {
                    "name": "stdout",
                    "output_type": "stream",
                    "text": [
                        "Rendering frames...\n"
                    ]
                },
                {
                    "name": "stderr",
                    "output_type": "stream",
                    "text": [
                        "  0%|          | 0/121 [00:00<?, ?it/s]IMAGEIO FFMPEG_WRITER WARNING: input image is not divisible by macro_block_size=16, resizing from (2550, 1318) to (2560, 1328) to ensure video compatibility with most codecs and players. To prevent resizing, make your input image divisible by the macro_block_size or set the macro_block_size to 1 (risking incompatibility).\n",
                        "100%|\u2588\u2588\u2588\u2588\u2588\u2588\u2588\u2588\u2588\u2588| 121/121 [00:09<00:00, 13.26it/s]\n"
                    ]
                },
                {
                    "name": "stdout",
                    "output_type": "stream",
                    "text": [
                        "Rendering frames...\n"
                    ]
                },
                {
                    "name": "stderr",
                    "output_type": "stream",
                    "text": [
                        "  0%|          | 0/121 [00:00<?, ?it/s]IMAGEIO FFMPEG_WRITER WARNING: input image is not divisible by macro_block_size=16, resizing from (2550, 1318) to (2560, 1328) to ensure video compatibility with most codecs and players. To prevent resizing, make your input image divisible by the macro_block_size or set the macro_block_size to 1 (risking incompatibility).\n",
                        "100%|\u2588\u2588\u2588\u2588\u2588\u2588\u2588\u2588\u2588\u2588| 121/121 [00:08<00:00, 13.76it/s]\n"
                    ]
                },
                {
                    "name": "stdout",
                    "output_type": "stream",
                    "text": [
                        "Rendering frames...\n"
                    ]
                },
                {
                    "name": "stderr",
                    "output_type": "stream",
                    "text": [
                        "  0%|          | 0/121 [00:00<?, ?it/s]IMAGEIO FFMPEG_WRITER WARNING: input image is not divisible by macro_block_size=16, resizing from (2550, 1318) to (2560, 1328) to ensure video compatibility with most codecs and players. To prevent resizing, make your input image divisible by the macro_block_size or set the macro_block_size to 1 (risking incompatibility).\n",
                        "100%|\u2588\u2588\u2588\u2588\u2588\u2588\u2588\u2588\u2588\u2588| 121/121 [00:08<00:00, 14.29it/s]\n"
                    ]
                },
                {
                    "name": "stdout",
                    "output_type": "stream",
                    "text": [
                        "Rendering frames...\n"
                    ]
                },
                {
                    "name": "stderr",
                    "output_type": "stream",
                    "text": [
                        "  0%|          | 0/121 [00:00<?, ?it/s]IMAGEIO FFMPEG_WRITER WARNING: input image is not divisible by macro_block_size=16, resizing from (2550, 1318) to (2560, 1328) to ensure video compatibility with most codecs and players. To prevent resizing, make your input image divisible by the macro_block_size or set the macro_block_size to 1 (risking incompatibility).\n",
                        "100%|\u2588\u2588\u2588\u2588\u2588\u2588\u2588\u2588\u2588\u2588| 121/121 [00:08<00:00, 14.66it/s]\n"
                    ]
                },
                {
                    "name": "stdout",
                    "output_type": "stream",
                    "text": [
                        "Rendering frames...\n"
                    ]
                },
                {
                    "name": "stderr",
                    "output_type": "stream",
                    "text": [
                        "  0%|          | 0/121 [00:00<?, ?it/s]IMAGEIO FFMPEG_WRITER WARNING: input image is not divisible by macro_block_size=16, resizing from (2550, 1318) to (2560, 1328) to ensure video compatibility with most codecs and players. To prevent resizing, make your input image divisible by the macro_block_size or set the macro_block_size to 1 (risking incompatibility).\n",
                        "100%|\u2588\u2588\u2588\u2588\u2588\u2588\u2588\u2588\u2588\u2588| 121/121 [00:08<00:00, 13.67it/s]\n"
                    ]
                },
                {
                    "name": "stdout",
                    "output_type": "stream",
                    "text": [
                        "Rendering frames...\n"
                    ]
                },
                {
                    "name": "stderr",
                    "output_type": "stream",
                    "text": [
                        "  0%|          | 0/121 [00:00<?, ?it/s]IMAGEIO FFMPEG_WRITER WARNING: input image is not divisible by macro_block_size=16, resizing from (2550, 1318) to (2560, 1328) to ensure video compatibility with most codecs and players. To prevent resizing, make your input image divisible by the macro_block_size or set the macro_block_size to 1 (risking incompatibility).\n",
                        "100%|\u2588\u2588\u2588\u2588\u2588\u2588\u2588\u2588\u2588\u2588| 121/121 [00:08<00:00, 15.12it/s]\n"
                    ]
                },
                {
                    "name": "stdout",
                    "output_type": "stream",
                    "text": [
                        "Rendering frames...\n"
                    ]
                },
                {
                    "name": "stderr",
                    "output_type": "stream",
                    "text": [
                        "  0%|          | 0/121 [00:00<?, ?it/s]IMAGEIO FFMPEG_WRITER WARNING: input image is not divisible by macro_block_size=16, resizing from (2550, 1318) to (2560, 1328) to ensure video compatibility with most codecs and players. To prevent resizing, make your input image divisible by the macro_block_size or set the macro_block_size to 1 (risking incompatibility).\n",
                        "100%|\u2588\u2588\u2588\u2588\u2588\u2588\u2588\u2588\u2588\u2588| 121/121 [00:08<00:00, 14.59it/s]\n"
                    ]
                },
                {
                    "name": "stdout",
                    "output_type": "stream",
                    "text": [
                        "Rendering frames...\n"
                    ]
                },
                {
                    "name": "stderr",
                    "output_type": "stream",
                    "text": [
                        "  0%|          | 0/121 [00:00<?, ?it/s]IMAGEIO FFMPEG_WRITER WARNING: input image is not divisible by macro_block_size=16, resizing from (2550, 1318) to (2560, 1328) to ensure video compatibility with most codecs and players. To prevent resizing, make your input image divisible by the macro_block_size or set the macro_block_size to 1 (risking incompatibility).\n",
                        "100%|\u2588\u2588\u2588\u2588\u2588\u2588\u2588\u2588\u2588\u2588| 121/121 [00:08<00:00, 14.55it/s]\n"
                    ]
                },
                {
                    "name": "stdout",
                    "output_type": "stream",
                    "text": [
                        "Rendering frames...\n"
                    ]
                },
                {
                    "name": "stderr",
                    "output_type": "stream",
                    "text": [
                        "  0%|          | 0/121 [00:00<?, ?it/s]IMAGEIO FFMPEG_WRITER WARNING: input image is not divisible by macro_block_size=16, resizing from (2550, 1318) to (2560, 1328) to ensure video compatibility with most codecs and players. To prevent resizing, make your input image divisible by the macro_block_size or set the macro_block_size to 1 (risking incompatibility).\n",
                        "100%|\u2588\u2588\u2588\u2588\u2588\u2588\u2588\u2588\u2588\u2588| 121/121 [00:08<00:00, 14.68it/s]\n"
                    ]
                },
                {
                    "name": "stdout",
                    "output_type": "stream",
                    "text": [
                        "Rendering frames...\n"
                    ]
                },
                {
                    "name": "stderr",
                    "output_type": "stream",
                    "text": [
                        "  0%|          | 0/121 [00:00<?, ?it/s]IMAGEIO FFMPEG_WRITER WARNING: input image is not divisible by macro_block_size=16, resizing from (2550, 1318) to (2560, 1328) to ensure video compatibility with most codecs and players. To prevent resizing, make your input image divisible by the macro_block_size or set the macro_block_size to 1 (risking incompatibility).\n",
                        "100%|\u2588\u2588\u2588\u2588\u2588\u2588\u2588\u2588\u2588\u2588| 121/121 [00:09<00:00, 12.84it/s]\n"
                    ]
                },
                {
                    "name": "stdout",
                    "output_type": "stream",
                    "text": [
                        "Rendering frames...\n"
                    ]
                },
                {
                    "name": "stderr",
                    "output_type": "stream",
                    "text": [
                        "  0%|          | 0/121 [00:00<?, ?it/s]IMAGEIO FFMPEG_WRITER WARNING: input image is not divisible by macro_block_size=16, resizing from (2550, 1318) to (2560, 1328) to ensure video compatibility with most codecs and players. To prevent resizing, make your input image divisible by the macro_block_size or set the macro_block_size to 1 (risking incompatibility).\n",
                        "100%|\u2588\u2588\u2588\u2588\u2588\u2588\u2588\u2588\u2588\u2588| 121/121 [00:08<00:00, 14.58it/s]\n"
                    ]
                },
                {
                    "name": "stdout",
                    "output_type": "stream",
                    "text": [
                        "Rendering frames...\n"
                    ]
                },
                {
                    "name": "stderr",
                    "output_type": "stream",
                    "text": [
                        "  0%|          | 0/121 [00:00<?, ?it/s]IMAGEIO FFMPEG_WRITER WARNING: input image is not divisible by macro_block_size=16, resizing from (2550, 1318) to (2560, 1328) to ensure video compatibility with most codecs and players. To prevent resizing, make your input image divisible by the macro_block_size or set the macro_block_size to 1 (risking incompatibility).\n",
                        "100%|\u2588\u2588\u2588\u2588\u2588\u2588\u2588\u2588\u2588\u2588| 121/121 [00:08<00:00, 14.36it/s]\n"
                    ]
                },
                {
                    "name": "stdout",
                    "output_type": "stream",
                    "text": [
                        "All layers animated\n"
                    ]
                }
            ],
            "source": [
                "for layer_name in layer_names:\n",
                "    viewer.layers[layer_name].visible = True\n",
                "    if \".tif\" in layer_name:\n",
                "        save_name = layer_name.split(\".tif\")[0]\n",
                "    else:\n",
                "        save_name = layer_name\n",
                "    save_path = pathlib.Path(f\"{mp4_file_dir}/well_fov_{save_name}_animation.mp4\")\n",
                "    if \"640\" in layer_name:\n",
                "        # increase contrast for the mitochondria\n",
                "        viewer.layers[layer_name].contrast_limits = (0, 20000)\n",
                "    animate_view(viewer, save_path, steps=30, easing=\"linear\")\n",
                "    viewer.layers[layer_name].visible = False\n",
                "print(\"All layers animated\")"
            ]
        },
        {
            "cell_type": "code",
            "execution_count": 13,
            "id": "d00406f1",
            "metadata": {},
            "outputs": [
                {
                    "name": "stdout",
                    "output_type": "stream",
                    "text": [
                        "MoviePy - Building file /home/lippincm/Documents/GFF_3D_organoid_profiling_pipeline/1.segment_images/animations/test/gif/nuclei_masks_reconstructed (labels)_animation.gif with imageio.\n"
                    ]
                },
                {
                    "name": "stderr",
                    "output_type": "stream",
                    "text": [
                        "                                                            \r"
                    ]
                },
                {
                    "name": "stdout",
                    "output_type": "stream",
                    "text": [
                        "Converted /home/lippincm/Documents/GFF_3D_organoid_profiling_pipeline/1.segment_images/animations/test/mp4/nuclei_masks_reconstructed (labels)_animation.mp4 to /home/lippincm/Documents/GFF_3D_organoid_profiling_pipeline/1.segment_images/animations/test/gif/nuclei_masks_reconstructed (labels)_animation.gif\n",
                        "MoviePy - Building file /home/lippincm/Documents/GFF_3D_organoid_profiling_pipeline/1.segment_images/animations/test/gif/cell_masks_reconstructed (labels)_animation.gif with imageio.\n"
                    ]
                },
                {
                    "name": "stderr",
                    "output_type": "stream",
                    "text": [
                        "                                                            \r"
                    ]
                },
                {
                    "name": "stdout",
                    "output_type": "stream",
                    "text": [
                        "Converted /home/lippincm/Documents/GFF_3D_organoid_profiling_pipeline/1.segment_images/animations/test/mp4/cell_masks_reconstructed (labels)_animation.mp4 to /home/lippincm/Documents/GFF_3D_organoid_profiling_pipeline/1.segment_images/animations/test/gif/cell_masks_reconstructed (labels)_animation.gif\n",
                        "MoviePy - Building file /home/lippincm/Documents/GFF_3D_organoid_profiling_pipeline/1.segment_images/animations/test/gif/cell_masks_decoupled (labels)_animation.gif with imageio.\n"
                    ]
                },
                {
                    "name": "stderr",
                    "output_type": "stream",
                    "text": [
                        "                                                            \r"
                    ]
                },
                {
                    "name": "stdout",
                    "output_type": "stream",
                    "text": [
                        "Converted /home/lippincm/Documents/GFF_3D_organoid_profiling_pipeline/1.segment_images/animations/test/mp4/cell_masks_decoupled (labels)_animation.mp4 to /home/lippincm/Documents/GFF_3D_organoid_profiling_pipeline/1.segment_images/animations/test/gif/cell_masks_decoupled (labels)_animation.gif\n",
                        "MoviePy - Building file /home/lippincm/Documents/GFF_3D_organoid_profiling_pipeline/1.segment_images/animations/test/gif/C4-2_488_animation.gif with imageio.\n"
                    ]
                },
                {
                    "name": "stderr",
                    "output_type": "stream",
                    "text": [
                        "                                                            \r"
                    ]
                },
                {
                    "name": "stdout",
                    "output_type": "stream",
                    "text": [
                        "Converted /home/lippincm/Documents/GFF_3D_organoid_profiling_pipeline/1.segment_images/animations/test/mp4/C4-2_488_animation.mp4 to /home/lippincm/Documents/GFF_3D_organoid_profiling_pipeline/1.segment_images/animations/test/gif/C4-2_488_animation.gif\n",
                        "MoviePy - Building file /home/lippincm/Documents/GFF_3D_organoid_profiling_pipeline/1.segment_images/animations/test/gif/C4-2_TRANS_animation.gif with imageio.\n"
                    ]
                },
                {
                    "name": "stderr",
                    "output_type": "stream",
                    "text": [
                        "                                                            \r"
                    ]
                },
                {
                    "name": "stdout",
                    "output_type": "stream",
                    "text": [
                        "Converted /home/lippincm/Documents/GFF_3D_organoid_profiling_pipeline/1.segment_images/animations/test/mp4/C4-2_TRANS_animation.mp4 to /home/lippincm/Documents/GFF_3D_organoid_profiling_pipeline/1.segment_images/animations/test/gif/C4-2_TRANS_animation.gif\n",
                        "MoviePy - Building file /home/lippincm/Documents/GFF_3D_organoid_profiling_pipeline/1.segment_images/animations/test/gif/C4-2_555_animation.gif with imageio.\n"
                    ]
                },
                {
                    "name": "stderr",
                    "output_type": "stream",
                    "text": [
                        "                                                            \r"
                    ]
                },
                {
                    "name": "stdout",
                    "output_type": "stream",
                    "text": [
                        "Converted /home/lippincm/Documents/GFF_3D_organoid_profiling_pipeline/1.segment_images/animations/test/mp4/C4-2_555_animation.mp4 to /home/lippincm/Documents/GFF_3D_organoid_profiling_pipeline/1.segment_images/animations/test/gif/C4-2_555_animation.gif\n",
                        "MoviePy - Building file /home/lippincm/Documents/GFF_3D_organoid_profiling_pipeline/1.segment_images/animations/test/gif/cytoplasm_mask (labels)_animation.gif with imageio.\n"
                    ]
                },
                {
                    "name": "stderr",
                    "output_type": "stream",
                    "text": [
                        "                                                            \r"
                    ]
                },
                {
                    "name": "stdout",
                    "output_type": "stream",
                    "text": [
                        "Converted /home/lippincm/Documents/GFF_3D_organoid_profiling_pipeline/1.segment_images/animations/test/mp4/cytoplasm_mask (labels)_animation.mp4 to /home/lippincm/Documents/GFF_3D_organoid_profiling_pipeline/1.segment_images/animations/test/gif/cytoplasm_mask (labels)_animation.gif\n",
                        "MoviePy - Building file /home/lippincm/Documents/GFF_3D_organoid_profiling_pipeline/1.segment_images/animations/test/gif/C4-2_640_animation.gif with imageio.\n"
                    ]
                },
                {
                    "name": "stderr",
                    "output_type": "stream",
                    "text": [
                        "                                                            \r"
                    ]
                },
                {
                    "name": "stdout",
                    "output_type": "stream",
                    "text": [
                        "Converted /home/lippincm/Documents/GFF_3D_organoid_profiling_pipeline/1.segment_images/animations/test/mp4/C4-2_640_animation.mp4 to /home/lippincm/Documents/GFF_3D_organoid_profiling_pipeline/1.segment_images/animations/test/gif/C4-2_640_animation.gif\n",
                        "MoviePy - Building file /home/lippincm/Documents/GFF_3D_organoid_profiling_pipeline/1.segment_images/animations/test/gif/organoid_masks_reconstructed (labels)_animation.gif with imageio.\n"
                    ]
                },
                {
                    "name": "stderr",
                    "output_type": "stream",
                    "text": [
                        "                                                            \r"
                    ]
                },
                {
                    "name": "stdout",
                    "output_type": "stream",
                    "text": [
                        "Converted /home/lippincm/Documents/GFF_3D_organoid_profiling_pipeline/1.segment_images/animations/test/mp4/organoid_masks_reconstructed (labels)_animation.mp4 to /home/lippincm/Documents/GFF_3D_organoid_profiling_pipeline/1.segment_images/animations/test/gif/organoid_masks_reconstructed (labels)_animation.gif\n",
                        "MoviePy - Building file /home/lippincm/Documents/GFF_3D_organoid_profiling_pipeline/1.segment_images/animations/test/gif/nuclei_masks_decoupled (labels)_animation.gif with imageio.\n"
                    ]
                },
                {
                    "name": "stderr",
                    "output_type": "stream",
                    "text": [
                        "                                                            \r"
                    ]
                },
                {
                    "name": "stdout",
                    "output_type": "stream",
                    "text": [
                        "Converted /home/lippincm/Documents/GFF_3D_organoid_profiling_pipeline/1.segment_images/animations/test/mp4/nuclei_masks_decoupled (labels)_animation.mp4 to /home/lippincm/Documents/GFF_3D_organoid_profiling_pipeline/1.segment_images/animations/test/gif/nuclei_masks_decoupled (labels)_animation.gif\n",
                        "MoviePy - Building file /home/lippincm/Documents/GFF_3D_organoid_profiling_pipeline/1.segment_images/animations/test/gif/C4-2_405_animation.gif with imageio.\n"
                    ]
                },
                {
                    "name": "stderr",
                    "output_type": "stream",
                    "text": [
                        "                                                            \r"
                    ]
                },
                {
                    "name": "stdout",
                    "output_type": "stream",
                    "text": [
                        "Converted /home/lippincm/Documents/GFF_3D_organoid_profiling_pipeline/1.segment_images/animations/test/mp4/C4-2_405_animation.mp4 to /home/lippincm/Documents/GFF_3D_organoid_profiling_pipeline/1.segment_images/animations/test/gif/C4-2_405_animation.gif\n",
                        "MoviePy - Building file /home/lippincm/Documents/GFF_3D_organoid_profiling_pipeline/1.segment_images/animations/test/gif/organoid_masks_decoupled (labels)_animation.gif with imageio.\n"
                    ]
                },
                {
                    "name": "stderr",
                    "output_type": "stream",
                    "text": [
                        "                                                            \r"
                    ]
                },
                {
                    "name": "stdout",
                    "output_type": "stream",
                    "text": [
                        "Converted /home/lippincm/Documents/GFF_3D_organoid_profiling_pipeline/1.segment_images/animations/test/mp4/organoid_masks_decoupled (labels)_animation.mp4 to /home/lippincm/Documents/GFF_3D_organoid_profiling_pipeline/1.segment_images/animations/test/gif/organoid_masks_decoupled (labels)_animation.gif\n"
                    ]
                }
            ],
            "source": [
                "# get all gifs in the directory\n",
                "mp4_file_path = list(pathlib.Path(mp4_file_dir).rglob(\"*.mp4\"))\n",
                "for mp4_file in mp4_file_path:\n",
                "\n",
                "    # change the path to the gif directory\n",
                "    mp4_file = pathlib.Path(mp4_file)\n",
                "    gif_file = pathlib.Path(gif_file_dir / f\"{mp4_file.stem}.gif\")\n",
                "    mp4_file = str(mp4_file)\n",
                "    gif_file = str(gif_file)\n",
                "    mp4_to_gif(mp4_file, gif_file)"
            ]
        }
    ],
    "metadata": {
        "kernelspec": {
            "display_name": "viz_env",
            "language": "python",
            "name": "python3"
        },
        "language_info": {
            "codemirror_mode": {
                "name": "ipython",
                "version": 3
            },
            "file_extension": ".py",
            "mimetype": "text/x-python",
            "name": "python",
            "nbconvert_exporter": "python",
            "pygments_lexer": "ipython3",
            "version": "3.11.11"
        },
        "papermill": {
            "default_parameters": {},
            "duration": 17.77613,
            "end_time": "2024-12-24T21:59:50.011767",
            "environment_variables": {},
            "exception": null,
            "input_path": "3.reconstruct_3D_masks.ipynb",
            "output_path": "3.reconstruct_3D_masks.ipynb",
            "parameters": {},
            "start_time": "2024-12-24T21:59:32.235637",
            "version": "2.6.0"
        }
    },
    "nbformat": 4,
    "nbformat_minor": 5
}
