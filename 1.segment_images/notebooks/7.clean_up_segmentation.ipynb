{
    "cells": [
        {
            "cell_type": "code",
            "execution_count": 1,
            "metadata": {},
            "outputs": [],
            "source": [
                "import pathlib\n",
                "import shutil\n",
                "import sys\n",
                "\n",
                "import numpy as np\n",
                "import tqdm\n",
                "\n",
                "sys.path.append(str(pathlib.Path(\"../../utils\").resolve()))\n",
                "from file_checking import check_number_of_files"
            ]
        },
        {
            "cell_type": "code",
            "execution_count": 2,
            "metadata": {},
            "outputs": [],
            "source": [
                "overwrite = True"
            ]
        },
        {
            "cell_type": "code",
            "execution_count": 3,
            "metadata": {},
            "outputs": [],
            "source": [
                "# set path to the processed data dir\n",
                "processed_data_dir = pathlib.Path(\"../processed_data\").resolve(strict=True)\n",
                "normalized_data_dir = pathlib.Path(\"../../data/NF0014/normalized_z\").resolve(\n",
                "    strict=True\n",
                ")\n",
                "# normalized_data_dir = pathlib.Path(\"../../data/test_dir\").resolve(strict=True)\n",
                "cellprofiler_dir = pathlib.Path(\"../../data/cellprofiler\").resolve()\n",
                "if cellprofiler_dir.exists():\n",
                "    shutil.rmtree(cellprofiler_dir)\n",
                "else:\n",
                "    cellprofiler_dir.mkdir(parents=True, exist_ok=True)"
            ]
        },
        {
            "cell_type": "code",
            "execution_count": 4,
            "metadata": {},
            "outputs": [
                {
                    "name": "stdout",
                    "output_type": "stream",
                    "text": [
                        "\n",
                        "      #################################################################################\n",
                        "\n",
                        "      ## Checking the number of files in each subdirectory of:\n",
                        " \n",
                        "      ## /home/lippincm/Documents/GFF_3D_organoid_profiling_pipeline/1.segment_images/processed_data\n",
                        "\n",
                        "      #################################################################################\n",
                        "      \n",
                        "C11-2 expected 6 files, but found 4 files.\n",
                        "C4-2 expected 6 files, but found 7 files.\n",
                        "C2-1 expected 6 files, but found 8 files.\n",
                        "\n",
                        "      #################################################################################\n",
                        "\n",
                        "      ## Checking the number of files in each subdirectory of:\n",
                        " \n",
                        "      ## /home/lippincm/Documents/GFF_3D_organoid_profiling_pipeline/data/NF0014/normalized_z\n",
                        "\n",
                        "      #################################################################################\n",
                        "      \n"
                    ]
                }
            ],
            "source": [
                "# perform checks for each directory\n",
                "processed_data_dir_directories = list(processed_data_dir.glob(\"*\"))\n",
                "normalized_data_dir_directories = list(normalized_data_dir.glob(\"*\"))\n",
                "cellprofiler_dir_directories = list(cellprofiler_dir.glob(\"*\"))\n",
                "\n",
                "print(\n",
                "    f\"\"\"\n",
                "      #################################################################################\\n\n",
                "      ## Checking the number of files in each subdirectory of:\\n \n",
                "      ## {processed_data_dir.absolute()}\\n\n",
                "      #################################################################################\n",
                "      \"\"\"\n",
                ")\n",
                "for file in processed_data_dir_directories:\n",
                "    check_number_of_files(file, 6)\n",
                "\n",
                "\n",
                "print(\n",
                "    f\"\"\"\n",
                "      #################################################################################\\n\n",
                "      ## Checking the number of files in each subdirectory of:\\n \n",
                "      ## {normalized_data_dir.absolute()}\\n\n",
                "      #################################################################################\n",
                "      \"\"\"\n",
                ")\n",
                "for file in normalized_data_dir_directories:\n",
                "    check_number_of_files(file, 5)"
            ]
        },
        {
            "cell_type": "markdown",
            "metadata": {},
            "source": [
                "## Copy the normalized images to the cellprofiler images dir"
            ]
        },
        {
            "cell_type": "code",
            "execution_count": 5,
            "metadata": {},
            "outputs": [
                {
                    "name": "stderr",
                    "output_type": "stream",
                    "text": [
                        "100%|\u2588\u2588\u2588\u2588\u2588\u2588\u2588\u2588\u2588\u2588| 104/104 [01:32<00:00,  1.12it/s]\n"
                    ]
                }
            ],
            "source": [
                "# get the list of dirs in the normalized_data_dir\n",
                "norm_dirs = [x for x in normalized_data_dir.iterdir() if x.is_dir()]\n",
                "# copy each dir and files to cellprofiler_dir\n",
                "for norm_dir in tqdm.tqdm(norm_dirs):\n",
                "    dest_dir = pathlib.Path(cellprofiler_dir, norm_dir.name)\n",
                "    if dest_dir.exists() and overwrite:\n",
                "        shutil.rmtree(dest_dir)\n",
                "        shutil.copytree(norm_dir, dest_dir)\n",
                "    elif not dest_dir.exists():\n",
                "        shutil.copytree(norm_dir, dest_dir)\n",
                "    else:\n",
                "        pass"
            ]
        },
        {
            "cell_type": "markdown",
            "metadata": {},
            "source": [
                "## Copy files from processed dir to cellprofiler images dir"
            ]
        },
        {
            "cell_type": "code",
            "execution_count": 6,
            "metadata": {},
            "outputs": [
                {
                    "name": "stderr",
                    "output_type": "stream",
                    "text": [
                        "100%|\u2588\u2588\u2588\u2588\u2588\u2588\u2588\u2588\u2588\u2588| 6/6 [00:02<00:00,  2.40it/s]\n"
                    ]
                }
            ],
            "source": [
                "# get a list of dirs in processed_data\n",
                "dirs = [x for x in processed_data_dir.iterdir() if x.is_dir()]\n",
                "file_extensions = {\".tif\", \".tiff\"}\n",
                "# get a list of files in each dir\n",
                "for well_dir in tqdm.tqdm(dirs):\n",
                "    files = [x for x in well_dir.iterdir() if x.is_file()]\n",
                "    for file in files:\n",
                "        if file.suffix in file_extensions:\n",
                "            # copy each of the raw files to the cellprofiler_dir for feature extraction\n",
                "            new_file_dir = pathlib.Path(\n",
                "                cellprofiler_dir, well_dir.name, file.stem + file.suffix\n",
                "            )\n",
                "            shutil.copy(file, new_file_dir)"
            ]
        },
        {
            "cell_type": "code",
            "execution_count": 7,
            "metadata": {},
            "outputs": [],
            "source": [
                "jobs_to_rerun_path = pathlib.Path(\"../rerun_jobs.txt\").resolve()\n",
                "if jobs_to_rerun_path.exists():\n",
                "    jobs_to_rerun_path.unlink()"
            ]
        },
        {
            "cell_type": "code",
            "execution_count": 8,
            "metadata": {},
            "outputs": [
                {
                    "name": "stderr",
                    "output_type": "stream",
                    "text": [
                        "100%|\u2588\u2588\u2588\u2588\u2588\u2588\u2588\u2588\u2588\u2588| 104/104 [00:00<00:00, 9300.41it/s]"
                    ]
                },
                {
                    "name": "stdout",
                    "output_type": "stream",
                    "text": [
                        "C11-2 expected 9 files, but found 7 files.\n",
                        "C2-1 expected 9 files, but found 10 files.\n",
                        "C2-2 expected 9 files, but found 5 files.\n",
                        "C3-1 expected 9 files, but found 5 files.\n",
                        "C3-2 expected 9 files, but found 5 files.\n",
                        "C4-1 expected 9 files, but found 5 files.\n",
                        "C5-1 expected 9 files, but found 5 files.\n",
                        "C5-2 expected 9 files, but found 5 files.\n",
                        "C6-1 expected 9 files, but found 5 files.\n",
                        "C6-2 expected 9 files, but found 5 files.\n",
                        "C7-1 expected 9 files, but found 5 files.\n",
                        "C7-2 expected 9 files, but found 5 files.\n",
                        "C8-1 expected 9 files, but found 5 files.\n",
                        "C8-2 expected 9 files, but found 5 files.\n",
                        "C9-1 expected 9 files, but found 5 files.\n",
                        "C9-2 expected 9 files, but found 5 files.\n",
                        "D10-1 expected 9 files, but found 5 files.\n",
                        "D10-2 expected 9 files, but found 5 files.\n",
                        "D11-1 expected 9 files, but found 5 files.\n",
                        "D11-2 expected 9 files, but found 5 files.\n",
                        "D11-3 expected 9 files, but found 5 files.\n",
                        "D2-1 expected 9 files, but found 5 files.\n",
                        "D2-2 expected 9 files, but found 5 files.\n",
                        "D2-3 expected 9 files, but found 5 files.\n",
                        "D3-1 expected 9 files, but found 5 files.\n",
                        "D3-2 expected 9 files, but found 5 files.\n",
                        "D4-1 expected 9 files, but found 5 files.\n",
                        "D4-2 expected 9 files, but found 5 files.\n",
                        "D5-1 expected 9 files, but found 5 files.\n",
                        "D5-2 expected 9 files, but found 5 files.\n",
                        "D6-1 expected 9 files, but found 5 files.\n",
                        "D6-2 expected 9 files, but found 5 files.\n",
                        "D7-1 expected 9 files, but found 5 files.\n",
                        "D7-2 expected 9 files, but found 5 files.\n",
                        "D8-1 expected 9 files, but found 5 files.\n",
                        "D8-2 expected 9 files, but found 5 files.\n",
                        "D9-1 expected 9 files, but found 5 files.\n",
                        "D9-2 expected 9 files, but found 5 files.\n",
                        "D9-3 expected 9 files, but found 5 files.\n",
                        "E10-1 expected 9 files, but found 5 files.\n",
                        "E10-2 expected 9 files, but found 5 files.\n",
                        "E11-1 expected 9 files, but found 5 files.\n",
                        "E11-2 expected 9 files, but found 5 files.\n",
                        "E2-1 expected 9 files, but found 5 files.\n",
                        "E2-2 expected 9 files, but found 5 files.\n",
                        "E3-1 expected 9 files, but found 5 files.\n",
                        "E3-2 expected 9 files, but found 5 files.\n",
                        "E4-1 expected 9 files, but found 5 files.\n",
                        "E4-2 expected 9 files, but found 5 files.\n",
                        "E5-1 expected 9 files, but found 5 files.\n",
                        "E5-2 expected 9 files, but found 5 files.\n",
                        "E6-1 expected 9 files, but found 5 files.\n",
                        "E6-2 expected 9 files, but found 5 files.\n",
                        "E7-1 expected 9 files, but found 5 files.\n",
                        "E7-2 expected 9 files, but found 5 files.\n",
                        "E8-1 expected 9 files, but found 5 files.\n",
                        "E8-2 expected 9 files, but found 5 files.\n",
                        "E9-1 expected 9 files, but found 5 files.\n",
                        "F10-1 expected 9 files, but found 5 files.\n",
                        "F10-2 expected 9 files, but found 5 files.\n",
                        "F11-1 expected 9 files, but found 5 files.\n",
                        "F11-2 expected 9 files, but found 5 files.\n",
                        "F11-3 expected 9 files, but found 5 files.\n",
                        "F2-1 expected 9 files, but found 5 files.\n",
                        "F2-2 expected 9 files, but found 5 files.\n",
                        "F4-1 expected 9 files, but found 5 files.\n",
                        "F4-2 expected 9 files, but found 5 files.\n",
                        "F4-3 expected 9 files, but found 5 files.\n",
                        "F5-1 expected 9 files, but found 5 files.\n",
                        "F5-2 expected 9 files, but found 5 files.\n",
                        "F6-1 expected 9 files, but found 5 files.\n",
                        "F6-2 expected 9 files, but found 5 files.\n",
                        "F7-1 expected 9 files, but found 5 files.\n",
                        "F7-2 expected 9 files, but found 5 files.\n",
                        "F8-1 expected 9 files, but found 5 files.\n",
                        "F8-2 expected 9 files, but found 5 files.\n",
                        "F9-1 expected 9 files, but found 5 files.\n",
                        "F9-2 expected 9 files, but found 5 files.\n",
                        "G10-1 expected 9 files, but found 5 files.\n",
                        "G10-2 expected 9 files, but found 5 files.\n",
                        "G10-3 expected 9 files, but found 5 files.\n",
                        "G11-1 expected 9 files, but found 5 files.\n",
                        "G11-2 expected 9 files, but found 5 files.\n",
                        "G2-1 expected 9 files, but found 5 files.\n",
                        "G2-2 expected 9 files, but found 5 files.\n",
                        "G3-1 expected 9 files, but found 5 files.\n",
                        "G3-2 expected 9 files, but found 5 files.\n",
                        "G4-1 expected 9 files, but found 5 files.\n",
                        "G4-2 expected 9 files, but found 5 files.\n",
                        "G5-1 expected 9 files, but found 5 files.\n",
                        "G5-2 expected 9 files, but found 5 files.\n",
                        "G6-1 expected 9 files, but found 5 files.\n",
                        "G6-2 expected 9 files, but found 5 files.\n",
                        "G7-1 expected 9 files, but found 5 files.\n",
                        "G7-2 expected 9 files, but found 5 files.\n",
                        "G8-1 expected 9 files, but found 5 files.\n",
                        "G8-2 expected 9 files, but found 5 files.\n",
                        "G9-1 expected 9 files, but found 5 files.\n",
                        "G9-2 expected 9 files, but found 5 files.\n",
                        "raw_z_input expected 9 files, but found 5 files.\n"
                    ]
                },
                {
                    "name": "stderr",
                    "output_type": "stream",
                    "text": [
                        "\n"
                    ]
                }
            ],
            "source": [
                "dirs_in_cellprofiler_dir = [x for x in cellprofiler_dir.iterdir() if x.is_dir()]\n",
                "dirs_in_cellprofiler_dir = sorted(dirs_in_cellprofiler_dir)\n",
                "for dir in tqdm.tqdm(dirs_in_cellprofiler_dir):\n",
                "    if not check_number_of_files(dir, 9):\n",
                "        with open(jobs_to_rerun_path, \"a\") as f:\n",
                "            f.write(f\"{dir.name}\\n\")"
            ]
        },
        {
            "cell_type": "code",
            "execution_count": 9,
            "metadata": {},
            "outputs": [],
            "source": [
                "# move an example to the example dir\n",
                "example_dir = pathlib.Path(\"../processed_data/C4-2/gifs/\").resolve(strict=True)\n",
                "final_example_dir = pathlib.Path(\"../examples/segmentation_output/C4-2/gifs\").resolve()\n",
                "if final_example_dir.exists():\n",
                "    shutil.rmtree(final_example_dir)\n",
                "\n",
                "\n",
                "if example_dir.exists():\n",
                "    shutil.copytree(example_dir, final_example_dir)"
            ]
        }
    ],
    "metadata": {
        "kernelspec": {
            "display_name": "GFF_segmentation",
            "language": "python",
            "name": "python3"
        },
        "language_info": {
            "codemirror_mode": {
                "name": "ipython",
                "version": 3
            },
            "file_extension": ".py",
            "mimetype": "text/x-python",
            "name": "python",
            "nbconvert_exporter": "python",
            "pygments_lexer": "ipython3",
            "version": "3.11.11"
        }
    },
    "nbformat": 4,
    "nbformat_minor": 2
}
