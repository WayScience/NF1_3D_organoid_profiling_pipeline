{
    "cells": [
        {
            "cell_type": "markdown",
            "id": "e6d8095a",
            "metadata": {
                "papermill": {
                    "duration": 0.001641,
                    "end_time": "2024-12-24T21:59:32.896576",
                    "exception": false,
                    "start_time": "2024-12-24T21:59:32.894935",
                    "status": "completed"
                },
                "tags": []
            },
            "source": [
                "## Imports"
            ]
        },
        {
            "cell_type": "code",
            "execution_count": 1,
            "id": "36e79f2f",
            "metadata": {
                "execution": {
                    "iopub.execute_input": "2024-12-24T21:59:32.900560Z",
                    "iopub.status.busy": "2024-12-24T21:59:32.900397Z",
                    "iopub.status.idle": "2024-12-24T21:59:35.986533Z",
                    "shell.execute_reply": "2024-12-24T21:59:35.986131Z"
                },
                "papermill": {
                    "duration": 3.089228,
                    "end_time": "2024-12-24T21:59:35.987496",
                    "exception": false,
                    "start_time": "2024-12-24T21:59:32.898268",
                    "status": "completed"
                },
                "tags": []
            },
            "outputs": [],
            "source": [
                "import argparse\n",
                "import pathlib\n",
                "import sys\n",
                "\n",
                "# import matplotlib.pyplot as plt\n",
                "import numpy as np\n",
                "import pandas as pd\n",
                "import skimage.io as io\n",
                "import tifffile\n",
                "from nviz.image import image_set_to_arrays\n",
                "from nviz.image_meta import extract_z_slice_number_from_filename, generate_ome_xml\n",
                "from nviz.view import view_ometiff_with_napari\n",
                "\n",
                "sys.path.append(\"../../utils\")\n",
                "from segmentation_decoupling import euclidian_2D_distance\n",
                "\n",
                "# check if in a jupyter notebook\n",
                "try:\n",
                "    cfg = get_ipython().config\n",
                "    in_notebook = True\n",
                "except NameError:\n",
                "    in_notebook = False"
            ]
        },
        {
            "cell_type": "code",
            "execution_count": 2,
            "id": "2b5c9c9b",
            "metadata": {
                "execution": {
                    "iopub.execute_input": "2024-12-24T21:59:35.993897Z",
                    "iopub.status.busy": "2024-12-24T21:59:35.993628Z",
                    "iopub.status.idle": "2024-12-24T21:59:35.998696Z",
                    "shell.execute_reply": "2024-12-24T21:59:35.998382Z"
                },
                "papermill": {
                    "duration": 0.008793,
                    "end_time": "2024-12-24T21:59:35.999282",
                    "exception": false,
                    "start_time": "2024-12-24T21:59:35.990489",
                    "status": "completed"
                },
                "tags": []
            },
            "outputs": [
                {
                    "name": "stdout",
                    "output_type": "stream",
                    "text": [
                        "Running in a notebook\n"
                    ]
                }
            ],
            "source": [
                "if not in_notebook:\n",
                "    print(\"Running as script\")\n",
                "    # set up arg parser\n",
                "    parser = argparse.ArgumentParser(description=\"Segment the nuclei of a tiff image\")\n",
                "\n",
                "    parser.add_argument(\n",
                "        \"--input_dir\",\n",
                "        type=str,\n",
                "        help=\"Path to the input directory containing the tiff images\",\n",
                "    )\n",
                "    parser.add_argument(\n",
                "        \"--radius_constraint\",\n",
                "        type=int,\n",
                "        default=10,\n",
                "        help=\"The maximum radius of the x-y vector\",\n",
                "    )\n",
                "    parser.add_argument(\n",
                "        \"--compartment\",\n",
                "        type=str,\n",
                "        default=\"none\",\n",
                "        help=\"The compartment to segment\",\n",
                "    )\n",
                "\n",
                "    args = parser.parse_args()\n",
                "    input_dir = pathlib.Path(args.input_dir).resolve(strict=True)\n",
                "    x_y_vector_radius_max_constaint = args.radius_constraint\n",
                "    compartment = args.compartment\n",
                "else:\n",
                "    print(\"Running in a notebook\")\n",
                "    input_dir = pathlib.Path(\"../processed_data/C4-2/\").resolve(strict=True)\n",
                "\n",
                "    compartment = \"organoid\"\n",
                "\n",
                "# if compartment == \"nuclei\":\n",
                "#     input_image_dir = pathlib.Path(input_dir / \"nuclei_masks.tiff\").resolve(strict=True)\n",
                "#     x_y_vector_radius_max_constaint = 5  # pixels\n",
                "# elif compartment == \"cell\":\n",
                "#     input_image_dir = pathlib.Path(input_dir / \"cell_masks.tiff\").resolve(strict=True)\n",
                "#     x_y_vector_radius_max_constaint = 15  # pixels\n",
                "# elif compartment == \"organoid\":\n",
                "#     input_image_dir = pathlib.Path(input_dir / \"organoid_masks.tiff\").resolve(\n",
                "#         strict=True\n",
                "#     )\n",
                "#     x_y_vector_radius_max_constaint = 50  # pixels\n",
                "# else:\n",
                "#     raise ValueError(\n",
                "#         \"Invalid compartment, please choose either 'nuclei', 'cell', or 'organoid'\"\n",
                "#     )\n",
                "\n",
                "# output_image_dir = input_image_dir"
            ]
        },
        {
            "cell_type": "code",
            "execution_count": 3,
            "id": "60df1922",
            "metadata": {},
            "outputs": [
                {
                    "name": "stdout",
                    "output_type": "stream",
                    "text": [
                        "Platform: Linux-6.9.3-76060903-generic-x86_64-with-glibc2.35\n",
                        "Python:   3.11.11 | packaged by conda-forge | (main, Dec  5 2024, 14:17:24) [GCC 13.3.0]\n",
                        "NumPy:    1.26.4\n",
                        "Backend:  PyQt5\n",
                        "pyqt4:    None\n",
                        "pyqt5:    ('PyQt5', '5.15.11', '5.15.14')\n",
                        "pyqt6:    None\n",
                        "pyside:   None\n",
                        "pyside2:  None\n",
                        "pyside6:  None\n",
                        "pyglet:   None\n",
                        "glfw:     None\n",
                        "sdl2:     None\n",
                        "wx:       None\n",
                        "egl:      EGL 1.5 NVIDIA: OpenGL_ES OpenGL\n",
                        "osmesa:   None\n",
                        "tkinter:  None\n",
                        "jupyter_rfb: None\n",
                        "_test:    None\n",
                        "\n",
                        "GL version:  '4.6.0 NVIDIA 560.35.03'\n",
                        "MAX_TEXTURE_SIZE: 32768\n",
                        "Extensions: 'GL_AMD_multi_draw_indirect GL_AMD_seamless_cubemap_per_texture GL_AMD_vertex_shader_viewport_index GL_AMD_vertex_shader_layer GL_ARB_arrays_of_arrays GL_ARB_base_instance GL_ARB_bindless_texture GL_ARB_blend_func_extended GL_ARB_buffer_storage GL_ARB_clear_buffer_object GL_ARB_clear_texture GL_ARB_clip_control GL_ARB_color_buffer_float GL_ARB_compatibility GL_ARB_compressed_texture_pixel_storage GL_ARB_conservative_depth GL_ARB_compute_shader GL_ARB_compute_variable_group_size GL_ARB_conditional_render_inverted GL_ARB_copy_buffer GL_ARB_copy_image GL_ARB_cull_distance GL_ARB_debug_output GL_ARB_depth_buffer_float GL_ARB_depth_clamp GL_ARB_depth_texture GL_ARB_derivative_control GL_ARB_direct_state_access GL_ARB_draw_buffers GL_ARB_draw_buffers_blend GL_ARB_draw_indirect GL_ARB_draw_elements_base_vertex GL_ARB_draw_instanced GL_ARB_enhanced_layouts GL_ARB_ES2_compatibility GL_ARB_ES3_compatibility GL_ARB_ES3_1_compatibility GL_ARB_ES3_2_compatibility GL_ARB_explicit_attrib_location GL_ARB_explicit_uniform_location GL_ARB_fragment_coord_conventions GL_ARB_fragment_layer_viewport GL_ARB_fragment_program GL_ARB_fragment_program_shadow GL_ARB_fragment_shader GL_ARB_fragment_shader_interlock GL_ARB_framebuffer_no_attachments GL_ARB_framebuffer_object GL_ARB_framebuffer_sRGB GL_ARB_geometry_shader4 GL_ARB_get_program_binary GL_ARB_get_texture_sub_image GL_ARB_gl_spirv GL_ARB_gpu_shader5 GL_ARB_gpu_shader_fp64 GL_ARB_gpu_shader_int64 GL_ARB_half_float_pixel GL_ARB_half_float_vertex GL_ARB_imaging GL_ARB_indirect_parameters GL_ARB_instanced_arrays GL_ARB_internalformat_query GL_ARB_internalformat_query2 GL_ARB_invalidate_subdata GL_ARB_map_buffer_alignment GL_ARB_map_buffer_range GL_ARB_multi_bind GL_ARB_multi_draw_indirect GL_ARB_multisample GL_ARB_multitexture GL_ARB_occlusion_query GL_ARB_occlusion_query2 GL_ARB_parallel_shader_compile GL_ARB_pipeline_statistics_query GL_ARB_pixel_buffer_object GL_ARB_point_parameters GL_ARB_point_sprite GL_ARB_polygon_offset_clamp GL_ARB_post_depth_coverage GL_ARB_program_interface_query GL_ARB_provoking_vertex GL_ARB_query_buffer_object GL_ARB_robust_buffer_access_behavior GL_ARB_robustness GL_ARB_sample_locations GL_ARB_sample_shading GL_ARB_sampler_objects GL_ARB_seamless_cube_map GL_ARB_seamless_cubemap_per_texture GL_ARB_separate_shader_objects GL_ARB_shader_atomic_counter_ops GL_ARB_shader_atomic_counters GL_ARB_shader_ballot GL_ARB_shader_bit_encoding GL_ARB_shader_clock GL_ARB_shader_draw_parameters GL_ARB_shader_group_vote GL_ARB_shader_image_load_store GL_ARB_shader_image_size GL_ARB_shader_objects GL_ARB_shader_precision GL_ARB_shader_storage_buffer_object GL_ARB_shader_subroutine GL_ARB_shader_texture_image_samples GL_ARB_shader_texture_lod GL_ARB_shading_language_100 GL_ARB_shader_viewport_layer_array GL_ARB_shading_language_420pack GL_ARB_shading_language_include GL_ARB_shading_language_packing GL_ARB_shadow GL_ARB_sparse_buffer GL_ARB_sparse_texture GL_ARB_sparse_texture2 GL_ARB_sparse_texture_clamp GL_ARB_spirv_extensions GL_ARB_stencil_texturing GL_ARB_sync GL_ARB_tessellation_shader GL_ARB_texture_barrier GL_ARB_texture_border_clamp GL_ARB_texture_buffer_object GL_ARB_texture_buffer_object_rgb32 GL_ARB_texture_buffer_range GL_ARB_texture_compression GL_ARB_texture_compression_bptc GL_ARB_texture_compression_rgtc GL_ARB_texture_cube_map GL_ARB_texture_cube_map_array GL_ARB_texture_env_add GL_ARB_texture_env_combine GL_ARB_texture_env_crossbar GL_ARB_texture_env_dot3 GL_ARB_texture_filter_anisotropic GL_ARB_texture_filter_minmax GL_ARB_texture_float GL_ARB_texture_gather GL_ARB_texture_mirror_clamp_to_edge GL_ARB_texture_mirrored_repeat GL_ARB_texture_multisample GL_ARB_texture_non_power_of_two GL_ARB_texture_query_levels GL_ARB_texture_query_lod GL_ARB_texture_rectangle GL_ARB_texture_rg GL_ARB_texture_rgb10_a2ui GL_ARB_texture_stencil8 GL_ARB_texture_storage GL_ARB_texture_storage_multisample GL_ARB_texture_swizzle GL_ARB_texture_view GL_ARB_timer_query GL_ARB_transform_feedback2 GL_ARB_transform_feedback3 GL_ARB_transform_feedback_instanced GL_ARB_transform_feedback_overflow_query GL_ARB_transpose_matrix GL_ARB_uniform_buffer_object GL_ARB_vertex_array_bgra GL_ARB_vertex_array_object GL_ARB_vertex_attrib_64bit GL_ARB_vertex_attrib_binding GL_ARB_vertex_buffer_object GL_ARB_vertex_program GL_ARB_vertex_shader GL_ARB_vertex_type_10f_11f_11f_rev GL_ARB_vertex_type_2_10_10_10_rev GL_ARB_viewport_array GL_ARB_window_pos GL_ATI_draw_buffers GL_ATI_texture_float GL_ATI_texture_mirror_once GL_S3_s3tc GL_EXT_texture_env_add GL_EXT_abgr GL_EXT_bgra GL_EXT_bindable_uniform GL_EXT_blend_color GL_EXT_blend_equation_separate GL_EXT_blend_func_separate GL_EXT_blend_minmax GL_EXT_blend_subtract GL_EXT_compiled_vertex_array GL_EXT_Cg_shader GL_EXT_depth_bounds_test GL_EXT_direct_state_access GL_EXT_draw_buffers2 GL_EXT_draw_instanced GL_EXT_draw_range_elements GL_EXT_fog_coord GL_EXT_framebuffer_blit GL_EXT_framebuffer_multisample GL_EXTX_framebuffer_mixed_formats GL_EXT_framebuffer_multisample_blit_scaled GL_EXT_framebuffer_object GL_EXT_framebuffer_sRGB GL_EXT_geometry_shader4 GL_EXT_gpu_program_parameters GL_EXT_gpu_shader4 GL_EXT_multi_draw_arrays GL_EXT_multiview_texture_multisample GL_EXT_multiview_timer_query GL_EXT_packed_depth_stencil GL_EXT_packed_float GL_EXT_packed_pixels GL_EXT_pixel_buffer_object GL_EXT_point_parameters GL_EXT_polygon_offset_clamp GL_EXT_post_depth_coverage GL_EXT_provoking_vertex GL_EXT_raster_multisample GL_EXT_rescale_normal GL_EXT_secondary_color GL_EXT_separate_shader_objects GL_EXT_separate_specular_color GL_EXT_shader_image_load_formatted GL_EXT_shader_image_load_store GL_EXT_shader_integer_mix GL_EXT_shadow_funcs GL_EXT_sparse_texture2 GL_EXT_stencil_two_side GL_EXT_stencil_wrap GL_EXT_texture3D GL_EXT_texture_array GL_EXT_texture_buffer_object GL_EXT_texture_compression_dxt1 GL_EXT_texture_compression_latc GL_EXT_texture_compression_rgtc GL_EXT_texture_compression_s3tc GL_EXT_texture_cube_map GL_EXT_texture_edge_clamp GL_EXT_texture_env_combine GL_EXT_texture_env_dot3 GL_EXT_texture_filter_anisotropic GL_EXT_texture_filter_minmax GL_EXT_texture_integer GL_EXT_texture_lod GL_EXT_texture_lod_bias GL_EXT_texture_mirror_clamp GL_EXT_texture_object GL_EXT_texture_shadow_lod GL_EXT_texture_shared_exponent GL_EXT_texture_sRGB GL_EXT_texture_sRGB_R8 GL_EXT_texture_sRGB_decode GL_EXT_texture_storage GL_EXT_texture_swizzle GL_EXT_timer_query GL_EXT_transform_feedback2 GL_EXT_vertex_array GL_EXT_vertex_array_bgra GL_EXT_vertex_attrib_64bit GL_EXT_window_rectangles GL_EXT_x11_sync_object GL_EXT_import_sync_object GL_NV_robustness_video_memory_purge GL_IBM_rasterpos_clip GL_IBM_texture_mirrored_repeat GL_KHR_context_flush_control GL_KHR_debug GL_EXT_memory_object GL_EXT_memory_object_fd GL_NV_memory_object_sparse GL_KHR_parallel_shader_compile GL_KHR_no_error GL_KHR_robust_buffer_access_behavior GL_KHR_robustness GL_EXT_semaphore GL_EXT_semaphore_fd GL_NV_timeline_semaphore GL_KHR_shader_subgroup GL_KTX_buffer_region GL_NV_alpha_to_coverage_dither_control GL_NV_bindless_multi_draw_indirect GL_NV_bindless_multi_draw_indirect_count GL_NV_bindless_texture GL_NV_blend_equation_advanced GL_NV_blend_equation_advanced_coherent GL_NVX_blend_equation_advanced_multi_draw_buffers GL_NV_blend_minmax_factor GL_NV_blend_square GL_NV_clip_space_w_scaling GL_NV_command_list GL_NV_compute_program5 GL_NV_compute_shader_derivatives GL_NV_conditional_render GL_NV_conservative_raster GL_NV_conservative_raster_dilate GL_NV_conservative_raster_pre_snap GL_NV_conservative_raster_pre_snap_triangles GL_NV_conservative_raster_underestimation GL_NV_copy_depth_to_color GL_NV_copy_image GL_NV_depth_buffer_float GL_NV_depth_clamp GL_NV_draw_texture GL_NV_draw_vulkan_image GL_NV_ES1_1_compatibility GL_NV_ES3_1_compatibility GL_NV_explicit_multisample GL_NV_feature_query GL_NV_fence GL_NV_fill_rectangle GL_NV_float_buffer GL_NV_fog_distance GL_NV_fragment_coverage_to_color GL_NV_fragment_program GL_NV_fragment_program_option GL_NV_fragment_program2 GL_NV_fragment_shader_barycentric GL_NV_fragment_shader_interlock GL_NV_framebuffer_mixed_samples GL_NV_framebuffer_multisample_coverage GL_NV_geometry_shader4 GL_NV_geometry_shader_passthrough GL_NV_gpu_program4 GL_NV_internalformat_sample_query GL_NV_gpu_program4_1 GL_NV_gpu_program5 GL_NV_gpu_program5_mem_extended GL_NV_gpu_program_fp64 GL_NV_gpu_program_multiview GL_NV_gpu_shader5 GL_NV_half_float GL_NV_light_max_exponent GL_NV_memory_attachment GL_NV_mesh_shader GL_NV_multisample_coverage GL_NV_multisample_filter_hint GL_NV_occlusion_query GL_NV_packed_depth_stencil GL_NV_parameter_buffer_object GL_NV_parameter_buffer_object2 GL_NV_path_rendering GL_NV_path_rendering_shared_edge GL_NV_pixel_data_range GL_NV_point_sprite GL_NV_primitive_restart GL_NV_primitive_shading_rate GL_NV_query_resource GL_NV_query_resource_tag GL_NV_register_combiners GL_NV_register_combiners2 GL_NV_representative_fragment_test GL_NV_sample_locations GL_NV_sample_mask_override_coverage GL_NV_scissor_exclusive GL_NV_shader_atomic_counters GL_NV_shader_atomic_float GL_NV_shader_atomic_float64 GL_NV_shader_atomic_fp16_vector GL_NV_shader_atomic_int64 GL_NV_shader_buffer_load GL_NV_shader_storage_buffer_object GL_NV_shader_subgroup_partitioned GL_NV_shader_texture_footprint GL_NV_shading_rate_image GL_NV_stereo_view_rendering GL_NV_texgen_reflection GL_NV_texture_barrier GL_NV_texture_compression_vtc GL_NV_texture_dirty_tile_map GL_NV_texture_env_combine4 GL_NV_texture_multisample GL_NV_texture_rectangle GL_NV_texture_rectangle_compressed GL_NV_texture_shader GL_NV_texture_shader2 GL_NV_texture_shader3 GL_NV_transform_feedback GL_NV_transform_feedback2 GL_NV_uniform_buffer_unified_memory GL_NV_uniform_buffer_std430_layout GL_NV_vdpau_interop GL_NV_vdpau_interop2 GL_NV_vertex_array_range GL_NV_vertex_array_range2 GL_NV_vertex_attrib_integer_64bit GL_NV_vertex_buffer_unified_memory GL_NV_vertex_program GL_NV_vertex_program1_1 GL_NV_vertex_program2 GL_NV_vertex_program2_option GL_NV_vertex_program3 GL_NV_viewport_array2 GL_NV_viewport_swizzle GL_NVX_conditional_render GL_NV_gpu_multicast GL_NVX_progress_fence GL_NVX_gpu_memory_info GL_NVX_nvenc_interop GL_NV_shader_thread_group GL_NV_shader_thread_shuffle GL_KHR_blend_equation_advanced GL_KHR_blend_equation_advanced_coherent GL_OVR_multiview GL_OVR_multiview2 GL_SGIS_generate_mipmap GL_SGIS_texture_lod GL_SGIX_depth_texture GL_SGIX_shadow GL_SUN_slice_accum '\n",
                        "\n"
                    ]
                }
            ],
            "source": [
                "import vispy\n",
                "\n",
                "vispy.use(\"pyqt5\")\n",
                "print(vispy.sys_info())"
            ]
        },
        {
            "cell_type": "code",
            "execution_count": 4,
            "id": "a848a1e9",
            "metadata": {},
            "outputs": [],
            "source": [
                "image_dir = \"../../data/NF0014/zstack_images/C4-2/\"\n",
                "label_dir = input_dir\n",
                "output_path = \"output.zarr\"\n",
                "channel_map = {\n",
                "    \"405\": \"Nuclei\",\n",
                "    \"488\": \"Endoplasmic Reticulum\",\n",
                "    \"555\": \"Actin, Golgi, and plasma membrane (AGP)\",\n",
                "    \"640\": \"Mitochondria\",\n",
                "    \"TRANS\": \"Brightfield\",\n",
                "}\n",
                "scaling_values = [1, 0.1, 0.1]"
            ]
        },
        {
            "cell_type": "code",
            "execution_count": 5,
            "id": "72ee059a",
            "metadata": {},
            "outputs": [],
            "source": [
                "frame_zstacks = image_set_to_arrays(\n",
                "    image_dir,\n",
                "    label_dir,\n",
                "    channel_map=channel_map,\n",
                ")\n",
                "\n",
                "images_data = []\n",
                "labels_data = []\n",
                "channel_names = []\n",
                "label_names = []\n",
                "\n",
                "\n",
                "for channel, stack in frame_zstacks[\"images\"].items():\n",
                "    dim = len(stack.shape)\n",
                "    images_data.append(stack)\n",
                "    channel_names.append(channel)\n",
                "\n",
                "# Collect label data\n",
                "if label_dir:\n",
                "    for compartment_name, stack in frame_zstacks[\"labels\"].items():\n",
                "        if len(stack.shape) != dim:\n",
                "            if len(stack.shape) == 3:\n",
                "                stack = np.expand_dims(stack, axis=0)\n",
                "        labels_data.append(stack)\n",
                "        label_names.append(f\"{compartment_name} (labels)\")\n",
                "\n",
                "\n",
                "# Stack the images and labels along a new axis for channels\n",
                "images_data = np.stack(images_data, axis=0)\n",
                "if labels_data:\n",
                "    labels_data = np.stack(labels_data, axis=0)\n",
                "    combined_data = np.concatenate((images_data, labels_data), axis=0)\n",
                "    combined_channel_names = channel_names + label_names\n",
                "else:\n",
                "    combined_data = images_data\n",
                "    combined_channel_names = channel_names\n",
                "# Generate OME-XML metadata\n",
                "ome_metadata = {\n",
                "    \"SizeC\": combined_data.shape[0],\n",
                "    \"SizeZ\": combined_data.shape[1],\n",
                "    \"SizeY\": combined_data.shape[2],\n",
                "    \"SizeX\": combined_data.shape[3],\n",
                "    \"PhysicalSizeX\": scaling_values[2],\n",
                "    \"PhysicalSizeY\": scaling_values[1],\n",
                "    \"PhysicalSizeZ\": scaling_values[0],\n",
                "    # note: we use 7-bit ascii compatible characters below\n",
                "    # due to tifffile limitations\n",
                "    \"PhysicalSizeXUnit\": \"um\",\n",
                "    \"PhysicalSizeYUnit\": \"um\",\n",
                "    \"PhysicalSizeZUnit\": \"um\",\n",
                "    \"Channel\": [{\"Name\": name} for name in combined_channel_names],\n",
                "}\n",
                "ome_xml = generate_ome_xml(ome_metadata)\n",
                "import tifffile as tiff\n",
                "\n",
                "# Write the combined data to a single OME-TIFF\n",
                "with tiff.TiffWriter(output_path, bigtiff=True) as tif:\n",
                "    tif.write(combined_data, description=ome_xml, photometric=\"minisblack\")"
            ]
        },
        {
            "cell_type": "code",
            "execution_count": 6,
            "id": "3e25d28a",
            "metadata": {},
            "outputs": [],
            "source": [
                "# import shutil\n",
                "# shutil.rmtree(output_path, ignore_errors=True)\n",
                "# nviz.image.tiff_to_ometiff(\n",
                "#     image_dir=image_dir,\n",
                "#     label_dir=label_dir,\n",
                "#     output_path=output_path,\n",
                "#     channel_map=channel_map,\n",
                "#     scaling_values=scaling_values,\n",
                "#     ignore=[],\n",
                "# )"
            ]
        },
        {
            "cell_type": "code",
            "execution_count": 7,
            "id": "d00fec18",
            "metadata": {},
            "outputs": [
                {
                    "data": {
                        "text/plain": [
                            "Viewer(camera=Camera(center=(16.0, 76.80000000000001, 76.95000000000002), zoom=8.118181818181817, angles=(0.0, 0.0, 89.99999999999999), perspective=0.0, mouse_pan=True, mouse_zoom=True), cursor=Cursor(position=(0.0, 1.0, 0.0, 0.0), scaled=True, style=<CursorStyle.STANDARD: 'standard'>, size=1.0), dims=Dims(ndim=4, ndisplay=3, order=(0, 1, 2, 3), axis_labels=('0', '1', '2', '3'), rollable=(True, True, True, True), range=(RangeTuple(start=0.0, stop=0.0, step=1.0), RangeTuple(start=0.0, stop=32.0, step=1.0), RangeTuple(start=0.0, stop=153.60000000000002, step=0.1), RangeTuple(start=0.0, stop=153.9, step=0.1)), margin_left=(0.0, 0.0, 0.0, 0.0), margin_right=(0.0, 0.0, 0.0, 0.0), point=(0.0, 16.0, 76.80000000000001, 76.9), last_used=0), grid=GridCanvas(stride=1, shape=(-1, -1), enabled=False), layers=[<Image layer 'C4-2_405' at 0x711fa4f1e4d0>, <Image layer 'C4-2_488' at 0x711fa43cfe10>, <Image layer 'C4-2_555' at 0x711fa779a610>, <Image layer 'C4-2_640' at 0x711fa7752510>, <Image layer 'C4-2_TRANS' at 0x711f9ebb7d10>, <Labels layer 'cell_masks_decoupled (labels)' at 0x711f9e65c390>, <Labels layer 'cell_masks_reconstructed (labels)' at 0x711f9e732450>, <Labels layer 'cytoplasm_mask (labels)' at 0x711f9db55510>, <Labels layer 'nuclei_masks_decoupled (labels)' at 0x711f9d1ea590>, <Labels layer 'nuclei_masks_reconstructed (labels)' at 0x711f9c179710>, <Labels layer 'organoid_masks_decoupled (labels)' at 0x711f97e2e0d0>, <Labels layer 'organoid_masks_reconstructed (labels)' at 0x711f979cdf90>], help='use <7> for transform, use <1> for activate the label eraser, use <2> for activate the paint brush, use <3> for activate the polygon tool, use <4> for activate the fill bucket, use <5> for pick mode', status='Ready', tooltip=Tooltip(visible=False, text=''), theme='dark', title='napari', mouse_over_canvas=False, mouse_move_callbacks=[], mouse_drag_callbacks=[], mouse_double_click_callbacks=[<function double_click_to_zoom at 0x711fa95d1120>], mouse_wheel_callbacks=[<function dims_scroll at 0x711fa95d1080>], _persisted_mouse_event={}, _mouse_drag_gen={}, _mouse_wheel_gen={}, _keymap={})"
                        ]
                    },
                    "execution_count": 7,
                    "metadata": {},
                    "output_type": "execute_result"
                }
            ],
            "source": [
                "view_ometiff_with_napari(\n",
                "    ometiff_path=output_path,\n",
                "    scaling_values=scaling_values,\n",
                "    headless=False,\n",
                ")"
            ]
        }
    ],
    "metadata": {
        "kernelspec": {
            "display_name": "viz_env",
            "language": "python",
            "name": "python3"
        },
        "language_info": {
            "codemirror_mode": {
                "name": "ipython",
                "version": 3
            },
            "file_extension": ".py",
            "mimetype": "text/x-python",
            "name": "python",
            "nbconvert_exporter": "python",
            "pygments_lexer": "ipython3",
            "version": "3.11.11"
        },
        "papermill": {
            "default_parameters": {},
            "duration": 17.77613,
            "end_time": "2024-12-24T21:59:50.011767",
            "environment_variables": {},
            "exception": null,
            "input_path": "3.reconstruct_3D_masks.ipynb",
            "output_path": "3.reconstruct_3D_masks.ipynb",
            "parameters": {},
            "start_time": "2024-12-24T21:59:32.235637",
            "version": "2.6.0"
        }
    },
    "nbformat": 4,
    "nbformat_minor": 5
}
